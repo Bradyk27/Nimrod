{
 "cells": [
  {
   "cell_type": "markdown",
   "metadata": {},
   "source": [
    "<h2> Brady Kruse & Marcus Jordan </h2>"
   ]
  },
  {
   "cell_type": "markdown",
   "metadata": {},
   "source": [
    "<h1> Nim Rules (for reference) </h1>"
   ]
  },
  {
   "cell_type": "raw",
   "metadata": {},
   "source": [
    "The basic Nim begins with two players and several heaps, each containing several objects. Occasionally, heaps are also called piles, and the objects are called stones.\n",
    "\n",
    "Each player, in turn, must take at least one stone, but they may take more than one stone as long as they all come from the same pile. It's allowed to make a pile empty, effectively removing the pile out of the game. When a player is unable to move, the game ends. Naturally, as long as there is a stone, either player can take that stone, and thus can move. So the ending condition can be rephrased, where the game ends if there is no stone left.\n",
    "\n",
    "In normal Nim, the loser is the player unable to move. It is called normal condition by convention from combinatorial game theory, where a normal game gives the win to the last player making a move. In misère Nim, the player unable to move wins instead; this is equivalent to the player taking the last stone losing."
   ]
  },
  {
   "cell_type": "markdown",
   "metadata": {},
   "source": [
    "<h1> Nim Rules & Tree Setup </h1>"
   ]
  },
  {
   "cell_type": "code",
   "execution_count": 190,
   "metadata": {},
   "outputs": [],
   "source": [
    "def childrenPopulate(nim, depth):\n",
    "    children = []\n",
    "    stack_index = 0\n",
    "    for each in nim:\n",
    "        for i in range(1, each.size+1):\n",
    "            temp_nim = copy.deepcopy(nim)\n",
    "            temp_nim[stack_index].removeStone(i)\n",
    "            children.append(Node(temp_nim, depth, childrenPopulate(temp_nim, depth+1)))\n",
    "        stack_index += 1\n",
    "    return children\n",
    "\n",
    "def firstDepthChildren(nim, player):\n",
    "    children = []\n",
    "    stack_index = 0\n",
    "    for stack in nim:\n",
    "        for i in range(1, stack.size+1):\n",
    "            temp_nim = copy.deepcopy(nim)\n",
    "            temp_nim[stack_index].removeStone(i)\n",
    "            children.append(Node(temp_nim, 1, player=not player))\n",
    "        stack_index += 1\n",
    "    return children"
   ]
  },
  {
   "cell_type": "code",
   "execution_count": 191,
   "metadata": {},
   "outputs": [],
   "source": [
    "def playerSet(node, role):\n",
    "    node.player = role\n",
    "    for child in node.children:\n",
    "        playerSet(child, not node.player)"
   ]
  },
  {
   "cell_type": "code",
   "execution_count": 192,
   "metadata": {},
   "outputs": [],
   "source": [
    "count = 0\n",
    "def printAllNodes(node):\n",
    "    global count\n",
    "    children = node.children\n",
    "    for child in children:\n",
    "        printAllNodes(child)\n",
    "    \n",
    "    node.printNode()\n",
    "    count += 1"
   ]
  },
  {
   "cell_type": "code",
   "execution_count": 193,
   "metadata": {},
   "outputs": [],
   "source": [
    "class Stack:\n",
    "    def __init__(self, size):\n",
    "        self.size = size\n",
    "        self.original_size = size\n",
    "    \n",
    "    def removeStone(self, amount):\n",
    "        if amount <= self.size and amount != 0:\n",
    "            self.size -= amount\n",
    "            return True #Indicates a valid turn\n",
    "        \n",
    "        return False #Indicates an invalid turn"
   ]
  },
  {
   "cell_type": "code",
   "execution_count": 194,
   "metadata": {},
   "outputs": [],
   "source": [
    "class Node: #For ease, TRUE is the MAX player and FALSE is the MIN player\n",
    "    def __init__(self, state, depth, children=None, parent=None, player=None):\n",
    "        self.state = state\n",
    "        self.parent = parent\n",
    "        self.children = children\n",
    "        self.depth = depth\n",
    "        self.player = None\n",
    "        \n",
    "        if children != None:\n",
    "            for child in self.children:\n",
    "                child.parent = self\n",
    "    \n",
    "    def printNode(self): #Have no idea why, on Ubuntu end = \"\" throws a syntax error? Something to do w/ how printing is handled\n",
    "        print(\"Node: \")\n",
    "        for stack in self.state: print(stack.size)#, end=\" \")\n",
    "        print(\"\\n\")\n",
    "    \n",
    "        print(\"Player: \")#, end =\"\")\n",
    "        if (self.player):\n",
    "            print(\"AI\\n\")\n",
    "        else:\n",
    "            print(\"PUNY HUMAN\\n\")\n",
    "        \n",
    "        print(\"Depth: \", self.depth)\n",
    "\n",
    "        if(self.parent != None):\n",
    "            print(\"Parent: \")\n",
    "            for stack in self.parent.state: print(stack.size)#, end = \" \")\n",
    "            print(\"\\n\")\n",
    "\n",
    "        if(self.children != None):\n",
    "            print(\"Children: \")\n",
    "            for child in self.children:\n",
    "                for stack in child.state: print(stack.size)#, end = \" \")\n",
    "                print(\"\\n\")\n",
    "        \n",
    "        print(\"--------------\")\n",
    "    def validTurn(self): #Check each stack, if all are 0, no valid turns are left & Return false. \n",
    "        dead_stacks = 0\n",
    "        for stack in self.state:\n",
    "            if stack.size == 0:\n",
    "                dead_stacks+=1\n",
    "        if(dead_stacks == len(self.state)):\n",
    "            return False\n",
    "        return True"
   ]
  },
  {
   "cell_type": "code",
   "execution_count": 195,
   "metadata": {},
   "outputs": [],
   "source": [
    "class NimTree:\n",
    "    def __init__(self, nim, player):\n",
    "        self.nim = nim\n",
    "        self.origin = Node(nim, 0)\n",
    "        self.origin.children = childrenPopulate(self.origin.state, self.origin.depth)\n",
    "        self.win_count = 0\n",
    "        self.win_depth = 100\n",
    "        self.win_node = None\n",
    "        playerSet(self.origin, player)\n",
    "        \n",
    "    def possibleWins(self, node):\n",
    "        for child in node.children:\n",
    "            self.possibleWins(child)\n",
    "            \n",
    "        if not node.validTurn() and not node.player:\n",
    "            #print(\"WIN\")\n",
    "            #node.printNode()\n",
    "            #print(\"--- turn end ---\" + \"\\n\")\n",
    "            self.win_count += 1\n",
    "        elif not node.validTurn() and node.player:\n",
    "            #print(\"LOSS\")\n",
    "            #node.printNode()\n",
    "            #print(\"--- turn end ---\" + \"\\n\")\n",
    "            return\n",
    "        else:\n",
    "            return\n",
    "            \n",
    "    def countWins(self): \n",
    "        self.possibleWins(self.origin)\n",
    "        return self.win_count\n",
    "    \n",
    "    def lowestWinDepth(self, node):\n",
    "        for child in node.children:\n",
    "            self.lowestWinDepth(child)\n",
    "                \n",
    "        if not node.validTurn() and not node.player:\n",
    "            #print(\"WIN\")\n",
    "            #node.printNode()\n",
    "            #print(\"--- turn end ---\" + \"\\n\")\n",
    "            if node.depth < self.win_depth:\n",
    "                self.win_node = node\n",
    "                self.win_depth = node.depth\n",
    "        elif not node.validTurn() and node.player:\n",
    "            #print(\"LOSS\")\n",
    "            #node.printNode()\n",
    "            #print(\"--- turn end ---\" + \"\\n\")\n",
    "            return\n",
    "        else:\n",
    "            return\n",
    "        "
   ]
  },
  {
   "cell_type": "code",
   "execution_count": 196,
   "metadata": {},
   "outputs": [],
   "source": [
    "import copy\n",
    "import math"
   ]
  },
  {
   "cell_type": "code",
   "execution_count": 197,
   "metadata": {},
   "outputs": [],
   "source": [
    "nim = [Stack(3), Stack(3), Stack(3)]"
   ]
  },
  {
   "cell_type": "code",
   "execution_count": 198,
   "metadata": {},
   "outputs": [
    {
     "name": "stdout",
     "output_type": "stream",
     "text": [
      "3\n",
      "3\n",
      "3\n"
     ]
    }
   ],
   "source": [
    "for stack in nim: print(stack.size)"
   ]
  },
  {
   "cell_type": "code",
   "execution_count": 199,
   "metadata": {},
   "outputs": [],
   "source": [
    "nim = [Stack(3), Stack(3), Stack(3)]\n",
    "tree = NimTree(nim, False) "
   ]
  },
  {
   "cell_type": "code",
   "execution_count": 200,
   "metadata": {
    "scrolled": true
   },
   "outputs": [
    {
     "name": "stdout",
     "output_type": "stream",
     "text": [
      "3\n",
      "3\n",
      "3\n",
      "\n",
      "\n"
     ]
    }
   ],
   "source": [
    "#this prints the nim state of the origin node of the tree\n",
    "for stack in tree.origin.state: print(stack.size)#, end = \" \")\n",
    "print(\"\\n\") "
   ]
  },
  {
   "cell_type": "code",
   "execution_count": 201,
   "metadata": {},
   "outputs": [
    {
     "name": "stdout",
     "output_type": "stream",
     "text": [
      "2\n",
      "3\n",
      "3\n",
      "\n",
      "\n",
      "1\n",
      "3\n",
      "3\n",
      "\n",
      "\n",
      "0\n",
      "3\n",
      "3\n",
      "\n",
      "\n",
      "3\n",
      "2\n",
      "3\n",
      "\n",
      "\n",
      "3\n",
      "1\n",
      "3\n",
      "\n",
      "\n",
      "3\n",
      "0\n",
      "3\n",
      "\n",
      "\n",
      "3\n",
      "3\n",
      "2\n",
      "\n",
      "\n",
      "3\n",
      "3\n",
      "1\n",
      "\n",
      "\n",
      "3\n",
      "3\n",
      "0\n",
      "\n",
      "\n"
     ]
    }
   ],
   "source": [
    "#This prints the nim state of all of the children nodes of a node (in this case, origin)\n",
    "for child in tree.origin.children:\n",
    "    for stack in child.state: print(stack.size)#, end = \" \")\n",
    "    print(\"\\n\")"
   ]
  },
  {
   "cell_type": "code",
   "execution_count": 203,
   "metadata": {},
   "outputs": [],
   "source": [
    "#Commented out because this takes 5ever to run\n",
    "#We're getting some repeated nodes...I think this is how it should be though?\n",
    "#count = 0\n",
    "#printAllNodes(tree.origin)\n",
    "\n",
    "#print(count)"
   ]
  },
  {
   "cell_type": "code",
   "execution_count": 204,
   "metadata": {
    "scrolled": false
   },
   "outputs": [
    {
     "name": "stdout",
     "output_type": "stream",
     "text": [
      "Node: \n",
      "0\n",
      "0\n",
      "0\n",
      "\n",
      "\n",
      "Player: \n",
      "PUNY HUMAN\n",
      "\n",
      "Depth:  2\n",
      "Parent: \n",
      "0\n",
      "0\n",
      "1\n",
      "\n",
      "\n",
      "Children: \n",
      "--------------\n",
      "Node: \n",
      "0\n",
      "0\n",
      "1\n",
      "\n",
      "\n",
      "Player: \n",
      "AI\n",
      "\n",
      "Depth:  1\n",
      "Parent: \n",
      "0\n",
      "0\n",
      "2\n",
      "\n",
      "\n",
      "Children: \n",
      "0\n",
      "0\n",
      "0\n",
      "\n",
      "\n",
      "--------------\n",
      "Node: \n",
      "0\n",
      "0\n",
      "0\n",
      "\n",
      "\n",
      "Player: \n",
      "AI\n",
      "\n",
      "Depth:  1\n",
      "Parent: \n",
      "0\n",
      "0\n",
      "2\n",
      "\n",
      "\n",
      "Children: \n",
      "--------------\n",
      "Node: \n",
      "0\n",
      "0\n",
      "2\n",
      "\n",
      "\n",
      "Player: \n",
      "PUNY HUMAN\n",
      "\n",
      "Depth:  0\n",
      "Children: \n",
      "0\n",
      "0\n",
      "1\n",
      "\n",
      "\n",
      "0\n",
      "0\n",
      "0\n",
      "\n",
      "\n",
      "--------------\n",
      "Node: \n",
      "0\n",
      "0\n",
      "0\n",
      "\n",
      "\n",
      "Player: \n",
      "AI\n",
      "\n",
      "Depth:  1\n",
      "Parent: \n",
      "0\n",
      "0\n",
      "1\n",
      "\n",
      "\n",
      "Children: \n",
      "--------------\n",
      "Node: \n",
      "0\n",
      "0\n",
      "1\n",
      "\n",
      "\n",
      "Player: \n",
      "PUNY HUMAN\n",
      "\n",
      "Depth:  0\n",
      "Children: \n",
      "0\n",
      "0\n",
      "0\n",
      "\n",
      "\n",
      "--------------\n",
      "Node: \n",
      "0\n",
      "0\n",
      "0\n",
      "\n",
      "\n",
      "Player: \n",
      "PUNY HUMAN\n",
      "\n",
      "Depth:  0\n",
      "Children: \n",
      "--------------\n",
      "Node: \n",
      "0\n",
      "0\n",
      "3\n",
      "\n",
      "\n",
      "Player: \n",
      "AI\n",
      "\n",
      "Depth:  0\n",
      "Children: \n",
      "0\n",
      "0\n",
      "2\n",
      "\n",
      "\n",
      "0\n",
      "0\n",
      "1\n",
      "\n",
      "\n",
      "0\n",
      "0\n",
      "0\n",
      "\n",
      "\n",
      "--------------\n"
     ]
    }
   ],
   "source": [
    "custom_nim = [Stack(0), Stack(0), Stack(3)]\n",
    "custom_tree = NimTree(custom_nim, True)\n",
    "printAllNodes(custom_tree.origin)"
   ]
  },
  {
   "cell_type": "code",
   "execution_count": 205,
   "metadata": {
    "scrolled": true
   },
   "outputs": [
    {
     "name": "stdout",
     "output_type": "stream",
     "text": [
      "2\n"
     ]
    }
   ],
   "source": [
    "print(custom_tree.countWins())"
   ]
  },
  {
   "cell_type": "markdown",
   "metadata": {},
   "source": [
    "<h1> Minimax Algorithm </h1>"
   ]
  },
  {
   "cell_type": "code",
   "execution_count": 206,
   "metadata": {},
   "outputs": [],
   "source": [
    "def minimaxAI(node):\n",
    "    node_win_count = 0\n",
    "    next_move = None\n",
    "    node_children = firstDepthChildren(node.state, node.player)\n",
    "    for child in node_children:\n",
    "        #child.printNode()\n",
    "        child_tree = NimTree(child.state, child.player)\n",
    "        child_wins = child_tree.countWins()\n",
    "        if child_wins > node_win_count:\n",
    "            node_win_count = child_wins\n",
    "            next_move = child\n",
    "    \n",
    "    return node_win_count, next_move\n",
    "    "
   ]
  },
  {
   "cell_type": "code",
   "execution_count": 207,
   "metadata": {},
   "outputs": [
    {
     "name": "stdout",
     "output_type": "stream",
     "text": [
      "AI Wins:  1 \n",
      "\n",
      "Next Move:\n",
      "\n",
      "Node: \n",
      "0\n",
      "0\n",
      "2\n",
      "\n",
      "\n",
      "Player: \n",
      "PUNY HUMAN\n",
      "\n",
      "Depth:  1\n",
      "--------------\n"
     ]
    }
   ],
   "source": [
    "custom_nim = [Stack(0), Stack(0), Stack(3)]\n",
    "custom_nim_node = Node(custom_nim, depth=0, player=True)\n",
    "AI_wins, AI_next_move = minimaxAI(custom_nim_node)\n",
    "print(\"AI Wins: \", AI_wins, \"\\n\\nNext Move:\\n\")\n",
    "AI_next_move.printNode()"
   ]
  },
  {
   "cell_type": "code",
   "execution_count": 208,
   "metadata": {},
   "outputs": [],
   "source": [
    "def gameLoopMinimax(nim, player):\n",
    "    print(\"\\t   GAME START\\nMAY NIMROD HAVE MERCY ON YOUR SOUL\\n----------------------------------\\n\")\n",
    "    current_state = Node(nim, 0)\n",
    "    current_state.player = player\n",
    "    current_state.printNode()\n",
    "    print(\"----------------------------------\\n\")\n",
    "    \n",
    "    while(True):\n",
    "        if(current_state.player): #AI's Turn\n",
    "            AI_wins, AI_next_move = minimaxAI(current_state)\n",
    "            print(AI_wins)\n",
    "            if(AI_wins == 0):\n",
    "                print(\"You Won! Somehow...\")\n",
    "                break\n",
    "                \n",
    "            if(not AI_next_move.validTurn()):\n",
    "                current_state = Node([Stack(0), Stack(0), Stack(0)], 0)\n",
    "                print(\"AI Moves To\")\n",
    "                current_state.printNode()\n",
    "                print(\"THE MIGHTY NIMROD BESTED YOU AGAIN\")\n",
    "                break\n",
    "    \n",
    "            current_state = AI_next_move\n",
    "            \n",
    "            print(\"AI Moves To:\")\n",
    "            current_state.printNode()\n",
    "            print(\"----------------END TURN------------------\\n\")\n",
    "            \n",
    "        else: #Your turn!\n",
    "            print(\"It's Your Turn\")\n",
    "            for stack in current_state.state:\n",
    "                print(\"Stack: \", current_state.state.index(stack), \": \", stack.size)\n",
    "            \n",
    "            stack_choice = int(input(\"Stack: \"))\n",
    "            remove_amount = int(input(\"Stone #: \"))\n",
    "            while(stack_choice > len(current_state.state)-1):\n",
    "                stack_choice = int(input(\"Pick Valid Stack: \"))\n",
    "                remove_amount = int(input(\"Stone #: \"))\n",
    "            while(not current_state.state[stack_choice].removeStone(remove_amount)):\n",
    "                print(\"INVALID CHOICE! THIS ANGERS NIMROD!\")\n",
    "                stack_choice = int(input(\"Pick Valid Stack: \"))\n",
    "                remove_amount = int(input(\"Stone #: \"))\n",
    "            \n",
    "            print(\"\\nYou Move To:\")\n",
    "            current_state.player = not current_state.player\n",
    "            current_state.printNode()\n",
    "            print(\"----------------END TURN------------------\\n\")"
   ]
  },
  {
   "cell_type": "code",
   "execution_count": null,
   "metadata": {},
   "outputs": [],
   "source": [
    "test_nim = [Stack(0), Stack(2), Stack(3)]\n",
    "gameLoopMinimax(test_nim, False)"
   ]
  },
  {
   "cell_type": "markdown",
   "metadata": {},
   "source": [
    "<h1>Depth Heuristic w/ AB Pruning</h1>"
   ]
  },
  {
   "cell_type": "code",
   "execution_count": 209,
   "metadata": {},
   "outputs": [],
   "source": [
    "class ImprovedNode: #For ease, TRUE is the MAX player and FALSE is the MIN player\n",
    "    def __init__(self, state, depth, children=None, parent=None, player=None):\n",
    "        self.state = state\n",
    "        self.parent = parent\n",
    "        self.children = children\n",
    "        self.depth = depth\n",
    "        self.player = player\n",
    "        \n",
    "        if children != None:\n",
    "            for child in self.children:\n",
    "                child.parent = self\n",
    "    \n",
    "    def printNode(self): #Have no idea why, on Ubuntu end = \"\" throws a syntax error? Something to do w/ how printing is handled\n",
    "        print(\"Node: \")\n",
    "        for stack in self.state: print(stack.size)#, end=\" \")\n",
    "        print(\"\\n\")\n",
    "    \n",
    "        print(\"Player: \")#, end =\"\")\n",
    "        if (self.player):\n",
    "            print(\"AI\\n\")\n",
    "        else:\n",
    "            print(\"PUNY HUMAN\\n\")\n",
    "        \n",
    "        print(\"Depth: \", self.depth)\n",
    "\n",
    "        if(self.parent != None):\n",
    "            print(\"Parent: \")\n",
    "            for stack in self.parent.state: print(stack.size)#, end = \" \")\n",
    "            print(\"\\n\")\n",
    "\n",
    "        if(self.children != None):\n",
    "            print(\"Children: \")\n",
    "            for child in self.children:\n",
    "                for stack in child.state: print(stack.size)#, end = \" \")\n",
    "                print(\"\\n\")\n",
    "        \n",
    "        print(\"--------------\")\n",
    "    def validTurn(self): #Check each stack, if all are 0, no valid turns are left & Return false. \n",
    "        dead_stacks = 0\n",
    "        for stack in self.state:\n",
    "            if stack.size == 0:\n",
    "                dead_stacks+=1\n",
    "        if(dead_stacks == len(self.state)):\n",
    "            return False\n",
    "        return True"
   ]
  },
  {
   "cell_type": "code",
   "execution_count": 210,
   "metadata": {},
   "outputs": [],
   "source": [
    "def isWinState(node):\n",
    "    if not node.validTurn() and not node.player:\n",
    "        return True"
   ]
  },
  {
   "cell_type": "code",
   "execution_count": 211,
   "metadata": {},
   "outputs": [],
   "source": [
    "def firstDepthChildrenImproved(nim, player, depth):\n",
    "    children = []\n",
    "    stack_index = 0\n",
    "    for stack in nim:\n",
    "        for i in range(1, stack.size+1):\n",
    "            temp_nim = copy.deepcopy(nim)\n",
    "            temp_nim[stack_index].removeStone(i)\n",
    "            children.append(ImprovedNode(temp_nim, depth+1, player= not player))\n",
    "        stack_index += 1\n",
    "    return children"
   ]
  },
  {
   "cell_type": "code",
   "execution_count": 212,
   "metadata": {},
   "outputs": [],
   "source": [
    "def depthFirstSearchABPrune(node):\n",
    "    global current_win_depth\n",
    "    node_children = firstDepthChildrenImproved(node.state, node.player, node.depth)\n",
    "    for child in node_children:\n",
    "        if child.depth >= current_win_depth:\n",
    "            return\n",
    "        elif isWinState(child) and child.depth < current_win_depth:\n",
    "            current_win_depth = child.depth\n",
    "        else:\n",
    "            depthFirstSearchABPrune(child)\n",
    "    return current_win_depth"
   ]
  },
  {
   "cell_type": "code",
   "execution_count": 213,
   "metadata": {
    "scrolled": true
   },
   "outputs": [
    {
     "data": {
      "text/plain": [
       "3"
      ]
     },
     "execution_count": 213,
     "metadata": {},
     "output_type": "execute_result"
    }
   ],
   "source": [
    "current_win_depth = 50\n",
    "custom_nim = [Stack(0), Stack(2), Stack(2)]\n",
    "custom_nim_node = ImprovedNode(custom_nim, depth=0, player=True)\n",
    "depthFirstSearchABPrune(custom_nim_node)"
   ]
  },
  {
   "cell_type": "code",
   "execution_count": 214,
   "metadata": {},
   "outputs": [],
   "source": [
    "def depthAI(node):\n",
    "    next_move = None\n",
    "    win_depth = 100\n",
    "    node_children = firstDepthChildrenImproved(node.state, node.player, node.depth)\n",
    "    for child in node_children:\n",
    "        child_win_depth = depthFirstSearchABPrune(child)\n",
    "        if child_win_depth != None:\n",
    "            if child_win_depth < win_depth:\n",
    "                win_depth = child_win_depth\n",
    "                next_move = child\n",
    "    return next_move"
   ]
  },
  {
   "cell_type": "code",
   "execution_count": 215,
   "metadata": {},
   "outputs": [],
   "source": [
    "def gameLoopDepth(nim, player):\n",
    "    print(\"\\t   GAME START\\nMAY NIMROD HAVE MERCY ON YOUR SOUL\\n----------------------------------\\n\")\n",
    "    current_state = Node(nim, 0)\n",
    "    current_state.player = player\n",
    "    current_state.printNode()\n",
    "    print(\"----------------------------------\\n\")\n",
    "    \n",
    "    while(True):\n",
    "        if(current_state.player): #AI's Turn\n",
    "            AI_next_move = depthAI(current_state)\n",
    "            if(AI_next_move == None):\n",
    "                print(\"You Won! Somehow...\")\n",
    "                break\n",
    "                \n",
    "            if(not AI_next_move.validTurn()):\n",
    "                current_state = Node([Stack(0), Stack(0), Stack(0)], 0)\n",
    "                print(\"AI Moves To\")\n",
    "                current_state.printNode()\n",
    "                print(\"THE MIGHTY NIMROD BESTED YOU AGAIN\")\n",
    "                break\n",
    "    \n",
    "            current_state = AI_next_move\n",
    "            \n",
    "            print(\"AI Moves To:\")\n",
    "            current_state.printNode()\n",
    "            print(\"----------------END TURN------------------\\n\")\n",
    "            \n",
    "        else: #Your turn!\n",
    "            print(\"It's Your Turn\")\n",
    "            for stack in current_state.state:\n",
    "                print(\"Stack: \", current_state.state.index(stack), \": \", stack.size)\n",
    "            \n",
    "            stack_choice = int(input(\"Stack: \"))\n",
    "            remove_amount = int(input(\"Stone #: \"))\n",
    "            while(stack_choice > len(current_state.state)-1):\n",
    "                stack_choice = int(input(\"Pick Valid Stack: \"))\n",
    "                remove_amount = int(input(\"Stone #: \"))\n",
    "            while(not current_state.state[stack_choice].removeStone(remove_amount)):\n",
    "                print(\"INVALID CHOICE! THIS ANGERS NIMROD!\")\n",
    "                stack_choice = int(input(\"Pick Valid Stack: \"))\n",
    "                remove_amount = int(input(\"Stone #: \"))\n",
    "            \n",
    "            print(\"\\nYou Move To:\")\n",
    "            current_state.player = not current_state.player\n",
    "            current_state.printNode()\n",
    "            print(\"----------------END TURN------------------\\n\")"
   ]
  },
  {
   "cell_type": "code",
   "execution_count": null,
   "metadata": {},
   "outputs": [],
   "source": [
    "test_nim = [Stack(3), Stack(3), Stack(3)]\n",
    "gameLoopDepth(test_nim, False)"
   ]
  },
  {
   "cell_type": "markdown",
   "metadata": {},
   "source": [
    "<h1> Perfect Binary Static Heuristic </h1>"
   ]
  },
  {
   "cell_type": "raw",
   "metadata": {},
   "source": [
    "The idea here is we always want to move to an EVEN state. By even, I mean the binary digital sums is composed of even numbers. So, for example, 033 is, in binary, 000 011 011. The binary digital sum is therefore 022. This is an impossible to win scenario and always reachable in some way. "
   ]
  },
  {
   "cell_type": "code",
   "execution_count": 221,
   "metadata": {},
   "outputs": [],
   "source": [
    "def binarySplit(num):\n",
    "    return list(str(bin(num))[2:])"
   ]
  },
  {
   "cell_type": "code",
   "execution_count": 222,
   "metadata": {},
   "outputs": [],
   "source": [
    "def binaryHeuristic(node):\n",
    "    binary_list = []\n",
    "    length = 0\n",
    "    for stack in node.state:\n",
    "        binary_list.append(binarySplit(stack.size))\n",
    "    for item in binary_list:\n",
    "        if len(item) > length:\n",
    "            length = len(item)\n",
    "    for item in binary_list:\n",
    "        if len(item) < length:\n",
    "            for i in range(length-len(item)):\n",
    "                item.insert(0,'0')\n",
    "    return binary_list"
   ]
  },
  {
   "cell_type": "code",
   "execution_count": 223,
   "metadata": {},
   "outputs": [],
   "source": [
    "def binaryDigitalSum(binary_list):\n",
    "    sum = []\n",
    "    for i in range(len(binary_list[0])):\n",
    "        sum.append(0)\n",
    "    for each in binary_list:\n",
    "        for i in range(len(each)):\n",
    "            sum[i] += int(each[i])\n",
    "    return sum"
   ]
  },
  {
   "cell_type": "code",
   "execution_count": 224,
   "metadata": {},
   "outputs": [],
   "source": [
    "def allEven(binary_list):\n",
    "    for num in binary_list:\n",
    "        if num % 2 != 0:\n",
    "            return False\n",
    "    return True"
   ]
  },
  {
   "cell_type": "code",
   "execution_count": 225,
   "metadata": {},
   "outputs": [
    {
     "data": {
      "text/plain": [
       "True"
      ]
     },
     "execution_count": 225,
     "metadata": {},
     "output_type": "execute_result"
    }
   ],
   "source": [
    "custom_nim = [Stack(0), Stack(2), Stack(2)]\n",
    "custom_nim_node = Node(custom_nim, depth=0, player=True)\n",
    "binaryHeuristic(custom_nim_node)\n",
    "allEven(binaryDigitalSum(binaryHeuristic(custom_nim_node)))"
   ]
  },
  {
   "cell_type": "code",
   "execution_count": 226,
   "metadata": {},
   "outputs": [],
   "source": [
    "def perfectAI(node): #Currently: no depth calculation\n",
    "    node_children = firstDepthChildren(node.state, node.player)\n",
    "    for each in node_children:\n",
    "        binary_sum = binaryDigitalSum(binaryHeuristic(each))\n",
    "        if(allEven(binary_sum)):\n",
    "            next_move = each\n",
    "            next_move.printNode()\n",
    "            return next_move\n",
    "        \n",
    "    node_win_count = 0 #If already in a losing state, go whichever path has the most wins. There's a more elegant solution for this\n",
    "    for child in node_children:\n",
    "        #child.printNode()\n",
    "        child_tree = NimTree(child.state, child.player)\n",
    "        child_wins = child_tree.countWins()\n",
    "        if child_wins > node_win_count:\n",
    "            node_win_count = child_wins\n",
    "            next_move = child\n",
    "    return next_move"
   ]
  },
  {
   "cell_type": "code",
   "execution_count": 227,
   "metadata": {
    "scrolled": true
   },
   "outputs": [
    {
     "name": "stdout",
     "output_type": "stream",
     "text": [
      "Node: \n",
      "0\n",
      "2\n",
      "2\n",
      "\n",
      "\n",
      "Player: \n",
      "PUNY HUMAN\n",
      "\n",
      "Depth:  1\n",
      "--------------\n",
      "Node: \n",
      "0\n",
      "2\n",
      "2\n",
      "\n",
      "\n",
      "Player: \n",
      "PUNY HUMAN\n",
      "\n",
      "Depth:  1\n",
      "--------------\n"
     ]
    }
   ],
   "source": [
    "custom_nim = [Stack(0), Stack(2), Stack(3)]\n",
    "custom_nim_node = Node(custom_nim, depth=0, player=True)\n",
    "test_node = perfectAI(custom_nim_node)\n",
    "test_node.printNode()"
   ]
  },
  {
   "cell_type": "code",
   "execution_count": 228,
   "metadata": {},
   "outputs": [],
   "source": [
    "def gameLoopStatic(nim, player):\n",
    "    print(\"\\t   GAME START\\nMAY NIMROD HAVE MERCY ON YOUR SOUL\\n----------------------------------\\n\")\n",
    "    current_state = Node(nim, 0)\n",
    "    current_state.player = player\n",
    "    current_state.printNode()\n",
    "    print(\"----------------------------------\\n\")\n",
    "    \n",
    "    while(True):\n",
    "        if(current_state.player): #AI's Turn\n",
    "            AI_next_move = perfectAI(current_state)\n",
    "            if(AI_next_move == None):\n",
    "                print(\"You Won! Somehow...\")\n",
    "                break\n",
    "                \n",
    "            if(not AI_next_move.validTurn()):\n",
    "                current_state = Node([Stack(0), Stack(0), Stack(0)], 0)\n",
    "                print(\"AI Moves To\")\n",
    "                current_state.printNode()\n",
    "                print(\"THE MIGHTY NIMROD BESTED YOU AGAIN\")\n",
    "                break\n",
    "    \n",
    "            current_state = AI_next_move\n",
    "            \n",
    "            print(\"AI Moves To:\")\n",
    "            current_state.printNode()\n",
    "            print(\"----------------END TURN------------------\\n\")\n",
    "            \n",
    "        else: #Your turn!\n",
    "            print(\"It's Your Turn\")\n",
    "            for stack in current_state.state:\n",
    "                print(\"Stack: \", current_state.state.index(stack), \": \", stack.size)\n",
    "            \n",
    "            stack_choice = int(input(\"Stack: \"))\n",
    "            remove_amount = int(input(\"Stone #: \"))\n",
    "            while(stack_choice > len(current_state.state)-1):\n",
    "                stack_choice = int(input(\"Pick Valid Stack: \"))\n",
    "                remove_amount = int(input(\"Stone #: \"))\n",
    "            while(not current_state.state[stack_choice].removeStone(remove_amount)):\n",
    "                print(\"INVALID CHOICE! THIS ANGERS NIMROD!\")\n",
    "                stack_choice = int(input(\"Pick Valid Stack: \"))\n",
    "                remove_amount = int(input(\"Stone #: \"))\n",
    "            \n",
    "            print(\"\\nYou Move To:\")\n",
    "            current_state.player = not current_state.player\n",
    "            current_state.printNode()\n",
    "            print(\"----------------END TURN------------------\\n\")"
   ]
  },
  {
   "cell_type": "markdown",
   "metadata": {},
   "source": [
    "test_nim = [Stack(0), Stack(2), Stack(3)]\n",
    "gameLoopStatic(test_nim, True)"
   ]
  },
  {
   "cell_type": "markdown",
   "metadata": {},
   "source": [
    "<h1> Try Them All! </h1>"
   ]
  },
  {
   "cell_type": "code",
   "execution_count": 233,
   "metadata": {},
   "outputs": [
    {
     "name": "stdout",
     "output_type": "stream",
     "text": [
      "\t   GAME START\n",
      "MAY NIMROD HAVE MERCY ON YOUR SOUL\n",
      "----------------------------------\n",
      "\n",
      "Node: \n",
      "1\n",
      "2\n",
      "1\n",
      "\n",
      "\n",
      "Player: \n",
      "AI\n",
      "\n",
      "Depth:  0\n",
      "--------------\n",
      "----------------------------------\n",
      "\n",
      "2\n",
      "AI Moves To:\n",
      "Node: \n",
      "0\n",
      "2\n",
      "1\n",
      "\n",
      "\n",
      "Player: \n",
      "PUNY HUMAN\n",
      "\n",
      "Depth:  1\n",
      "--------------\n",
      "----------------END TURN------------------\n",
      "\n",
      "It's Your Turn\n",
      "Stack:  0 :  0\n",
      "Stack:  1 :  2\n",
      "Stack:  2 :  1\n",
      "Stack: 2\n",
      "Stone #: 1\n",
      "\n",
      "You Move To:\n",
      "Node: \n",
      "0\n",
      "2\n",
      "0\n",
      "\n",
      "\n",
      "Player: \n",
      "AI\n",
      "\n",
      "Depth:  1\n",
      "--------------\n",
      "----------------END TURN------------------\n",
      "\n",
      "1\n",
      "AI Moves To\n",
      "Node: \n",
      "0\n",
      "0\n",
      "0\n",
      "\n",
      "\n",
      "Player: \n",
      "PUNY HUMAN\n",
      "\n",
      "Depth:  0\n",
      "--------------\n",
      "THE MIGHTY NIMROD BESTED YOU AGAIN\n"
     ]
    }
   ],
   "source": [
    "test_nim = [Stack(1), Stack(2), Stack(1)]\n",
    "gameLoopMinimax(test_nim, True) #AI goes first"
   ]
  },
  {
   "cell_type": "code",
   "execution_count": 234,
   "metadata": {},
   "outputs": [
    {
     "name": "stdout",
     "output_type": "stream",
     "text": [
      "\t   GAME START\n",
      "MAY NIMROD HAVE MERCY ON YOUR SOUL\n",
      "----------------------------------\n",
      "\n",
      "Node: \n",
      "1\n",
      "2\n",
      "1\n",
      "\n",
      "\n",
      "Player: \n",
      "AI\n",
      "\n",
      "Depth:  0\n",
      "--------------\n",
      "----------------------------------\n",
      "\n",
      "AI Moves To:\n",
      "Node: \n",
      "0\n",
      "2\n",
      "1\n",
      "\n",
      "\n",
      "Player: \n",
      "PUNY HUMAN\n",
      "\n",
      "Depth:  1\n",
      "--------------\n",
      "----------------END TURN------------------\n",
      "\n",
      "It's Your Turn\n",
      "Stack:  0 :  0\n",
      "Stack:  1 :  2\n",
      "Stack:  2 :  1\n",
      "Stack: 1\n",
      "Stone #: 2\n",
      "\n",
      "You Move To:\n",
      "Node: \n",
      "0\n",
      "0\n",
      "1\n",
      "\n",
      "\n",
      "Player: \n",
      "AI\n",
      "\n",
      "Depth:  1\n",
      "--------------\n",
      "----------------END TURN------------------\n",
      "\n",
      "AI Moves To\n",
      "Node: \n",
      "0\n",
      "0\n",
      "0\n",
      "\n",
      "\n",
      "Player: \n",
      "PUNY HUMAN\n",
      "\n",
      "Depth:  0\n",
      "--------------\n",
      "THE MIGHTY NIMROD BESTED YOU AGAIN\n"
     ]
    }
   ],
   "source": [
    "test_nim = [Stack(1), Stack(2), Stack(1)]\n",
    "gameLoopDepth(test_nim, True)"
   ]
  },
  {
   "cell_type": "code",
   "execution_count": 235,
   "metadata": {
    "scrolled": true
   },
   "outputs": [
    {
     "name": "stdout",
     "output_type": "stream",
     "text": [
      "\t   GAME START\n",
      "MAY NIMROD HAVE MERCY ON YOUR SOUL\n",
      "----------------------------------\n",
      "\n",
      "Node: \n",
      "1\n",
      "2\n",
      "1\n",
      "\n",
      "\n",
      "Player: \n",
      "AI\n",
      "\n",
      "Depth:  0\n",
      "--------------\n",
      "----------------------------------\n",
      "\n",
      "Node: \n",
      "1\n",
      "0\n",
      "1\n",
      "\n",
      "\n",
      "Player: \n",
      "PUNY HUMAN\n",
      "\n",
      "Depth:  1\n",
      "--------------\n",
      "AI Moves To:\n",
      "Node: \n",
      "1\n",
      "0\n",
      "1\n",
      "\n",
      "\n",
      "Player: \n",
      "PUNY HUMAN\n",
      "\n",
      "Depth:  1\n",
      "--------------\n",
      "----------------END TURN------------------\n",
      "\n",
      "It's Your Turn\n",
      "Stack:  0 :  1\n",
      "Stack:  1 :  0\n",
      "Stack:  2 :  1\n",
      "Stack: 0\n",
      "Stone #: 1\n",
      "\n",
      "You Move To:\n",
      "Node: \n",
      "0\n",
      "0\n",
      "1\n",
      "\n",
      "\n",
      "Player: \n",
      "AI\n",
      "\n",
      "Depth:  1\n",
      "--------------\n",
      "----------------END TURN------------------\n",
      "\n",
      "Node: \n",
      "0\n",
      "0\n",
      "0\n",
      "\n",
      "\n",
      "Player: \n",
      "PUNY HUMAN\n",
      "\n",
      "Depth:  1\n",
      "--------------\n",
      "AI Moves To\n",
      "Node: \n",
      "0\n",
      "0\n",
      "0\n",
      "\n",
      "\n",
      "Player: \n",
      "PUNY HUMAN\n",
      "\n",
      "Depth:  0\n",
      "--------------\n",
      "THE MIGHTY NIMROD BESTED YOU AGAIN\n"
     ]
    }
   ],
   "source": [
    "test_nim = [Stack(1), Stack(2), Stack(1)]\n",
    "gameLoopStatic(test_nim, True)"
   ]
  },
  {
   "cell_type": "markdown",
   "metadata": {},
   "source": [
    "<h1> Closing Thoughts </h1>"
   ]
  },
  {
   "cell_type": "markdown",
   "metadata": {},
   "source": [
    "There's certainly PLENTY of polish that can be added to this project. The code can certainly be cleaner (there's several instances of redundancy and inconsistency withiin certain classes), organized better (test code is currently scattered throughout), and several things that can be done to the ACTUAL AI. A \"perfect\" heuristic would probably be some combination of the three (due to the random nature of human), although that would take plenty of tinkering around with different levels of depth. For example, a heuristic only chasing wins will behave stupidly at times, but a depth-heuristic might pigeonhole itself down a very specific scenario that has an easy win. The binary static heuristic is mathematically the best, but when stuck in a losing situation, there is most certainly a more elegant way to pick the \"best\" path than just counting the number of wins. A much better solution would be some combination of quickly arriving at an odd scenario while also leaving flexibility for multiple odd scenarios. As far as speed--this algorithm is painfully slow, although it does a FANTASTIC job of hiding. Simply put, humans are stupid: generating trees relies on creating EVERY possibility (down to different roles, parents, etc.) instead of simply the \"logical\" ones. Also, since the \"wins\" rely on generating the FINAL leaf, alpha-beta pruning is impossible to implement since we MUST generate all the way down anyway. What I'd really like to do is put the AI's against each other in a best of 100 tournament (or at least until mathematical equilibrium is hit), but that will take a significant amount of coding I'm afraid. Also there is certainly ability for game theory to come into play here.\n",
    "\n",
    "As always, improvement is infinite. Nonetheless, I am very excited about beginning my first foray into AI. And so we beat on, boats against the current, always advancing despite the past. "
   ]
  }
 ],
 "metadata": {
  "kernelspec": {
   "display_name": "Python 3",
   "language": "python",
   "name": "python3"
  },
  "language_info": {
   "codemirror_mode": {
    "name": "ipython",
    "version": 3
   },
   "file_extension": ".py",
   "mimetype": "text/x-python",
   "name": "python",
   "nbconvert_exporter": "python",
   "pygments_lexer": "ipython3",
   "version": "3.7.0"
  }
 },
 "nbformat": 4,
 "nbformat_minor": 2
}
