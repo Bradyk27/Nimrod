{
 "cells": [
  {
   "cell_type": "markdown",
   "metadata": {},
   "source": [
    "<h2> Brady Kruse & Marcus Jordan </h2>"
   ]
  },
  {
   "cell_type": "markdown",
   "metadata": {},
   "source": [
    "<h1> Nim Rules (for reference) </h1>"
   ]
  },
  {
   "cell_type": "raw",
   "metadata": {},
   "source": [
    "The basic Nim begins with two players and several heaps, each containing several objects. Occasionally, heaps are also called piles, and the objects are called stones.\n",
    "\n",
    "Each player, in turn, must take at least one stone, but they may take more than one stone as long as they all come from the same pile. It's allowed to make a pile empty, effectively removing the pile out of the game. When a player is unable to move, the game ends. Naturally, as long as there is a stone, either player can take that stone, and thus can move. So the ending condition can be rephrased, where the game ends if there is no stone left.\n",
    "\n",
    "In normal Nim, the loser is the player unable to move. It is called normal condition by convention from combinatorial game theory, where a normal game gives the win to the last player making a move. In misère Nim, the player unable to move wins instead; this is equivalent to the player taking the last stone losing."
   ]
  },
  {
   "cell_type": "markdown",
   "metadata": {},
   "source": [
    "<h1> Nim Rules & Tree Setup </h1>"
   ]
  },
  {
   "cell_type": "code",
   "execution_count": 23,
   "metadata": {},
   "outputs": [],
   "source": [
    "def childrenPopulate(nim, depth):\n",
    "    children = []\n",
    "    stack_index = 0\n",
    "    for each in nim:\n",
    "        for i in range(1, each.size+1):\n",
    "            temp_nim = copy.deepcopy(nim)\n",
    "            temp_nim[stack_index].removeStone(i)\n",
    "            children.append(Node(temp_nim, depth, childrenPopulate(temp_nim, depth+1)))\n",
    "        stack_index += 1\n",
    "    return children\n",
    "\n",
    "def firstDepthChildren(nim, player):\n",
    "    children = []\n",
    "    stack_index = 0\n",
    "    for stack in nim:\n",
    "        for i in range(1, stack.size+1):\n",
    "            temp_nim = copy.deepcopy(nim)\n",
    "            temp_nim[stack_index].removeStone(i)\n",
    "            children.append(Node(temp_nim, 1, player=not player))\n",
    "        stack_index += 1\n",
    "    return children"
   ]
  },
  {
   "cell_type": "code",
   "execution_count": 24,
   "metadata": {},
   "outputs": [],
   "source": [
    "def playerSet(node, role):\n",
    "    node.player = role\n",
    "    for child in node.children:\n",
    "        playerSet(child, not node.player)"
   ]
  },
  {
   "cell_type": "code",
   "execution_count": 25,
   "metadata": {},
   "outputs": [],
   "source": [
    "count = 0\n",
    "def printAllNodes(node):\n",
    "    global count\n",
    "    children = node.children\n",
    "    for child in children:\n",
    "        printAllNodes(child)\n",
    "    \n",
    "    node.printNode()\n",
    "    count += 1"
   ]
  },
  {
   "cell_type": "code",
   "execution_count": 26,
   "metadata": {},
   "outputs": [],
   "source": [
    "class Stack:\n",
    "    def __init__(self, size):\n",
    "        self.size = size\n",
    "        self.original_size = size\n",
    "    \n",
    "    def removeStone(self, amount):\n",
    "        if amount <= self.size and amount != 0:\n",
    "            self.size -= amount\n",
    "            return True #Indicates a valid turn\n",
    "        \n",
    "        return False #Indicates an invalid turn"
   ]
  },
  {
   "cell_type": "code",
   "execution_count": 27,
   "metadata": {},
   "outputs": [],
   "source": [
    "class Node: #For ease, TRUE is the MAX player and FALSE is the MIN player\n",
    "    def __init__(self, state, depth, children=None, parent=None, player=None):\n",
    "        self.state = state\n",
    "        self.parent = parent\n",
    "        self.children = children\n",
    "        self.depth = depth\n",
    "        self.player = None\n",
    "        \n",
    "        if children != None:\n",
    "            for child in self.children:\n",
    "                child.parent = self\n",
    "    \n",
    "    def printNode(self): #Have no idea why, on Ubuntu end = \"\" throws a syntax error? Something to do w/ how printing is handled\n",
    "        print(\"Node: \")\n",
    "        for stack in self.state: print(stack.size)#, end=\" \")\n",
    "        print(\"\\n\")\n",
    "    \n",
    "        print(\"Player: \")#, end =\"\")\n",
    "        if (self.player):\n",
    "            print(\"AI\\n\")\n",
    "        else:\n",
    "            print(\"PUNY HUMAN\\n\")\n",
    "        \n",
    "        print(\"Depth: \", self.depth)\n",
    "\n",
    "        if(self.parent != None):\n",
    "            print(\"Parent: \")\n",
    "            for stack in self.parent.state: print(stack.size)#, end = \" \")\n",
    "            print(\"\\n\")\n",
    "\n",
    "        if(self.children != None):\n",
    "            print(\"Children: \")\n",
    "            for child in self.children:\n",
    "                for stack in child.state: print(stack.size)#, end = \" \")\n",
    "                print(\"\\n\")\n",
    "        \n",
    "        print(\"--------------\")\n",
    "    def validTurn(self): #Check each stack, if all are 0, no valid turns are left & Return false. \n",
    "        dead_stacks = 0\n",
    "        for stack in self.state:\n",
    "            if stack.size == 0:\n",
    "                dead_stacks+=1\n",
    "        if(dead_stacks == len(self.state)):\n",
    "            return False\n",
    "        return True"
   ]
  },
  {
   "cell_type": "code",
   "execution_count": 28,
   "metadata": {},
   "outputs": [],
   "source": [
    "class NimTree:\n",
    "    def __init__(self, nim, player):\n",
    "        self.nim = nim\n",
    "        self.origin = Node(nim, 0)\n",
    "        self.origin.children = childrenPopulate(self.origin.state, self.origin.depth)\n",
    "        self.win_count = 0\n",
    "        self.win_depth = 100\n",
    "        self.win_node = None\n",
    "        playerSet(self.origin, player)\n",
    "        \n",
    "    def possibleWins(self, node):\n",
    "        for child in node.children:\n",
    "            self.possibleWins(child)\n",
    "            \n",
    "        if not node.validTurn() and not node.player:\n",
    "            #print(\"WIN\")\n",
    "            #node.printNode()\n",
    "            #print(\"--- turn end ---\" + \"\\n\")\n",
    "            self.win_count += 1\n",
    "        elif not node.validTurn() and node.player:\n",
    "            #print(\"LOSS\")\n",
    "            #node.printNode()\n",
    "            #print(\"--- turn end ---\" + \"\\n\")\n",
    "            return\n",
    "        else:\n",
    "            return\n",
    "            \n",
    "    def countWins(self): \n",
    "        self.possibleWins(self.origin)\n",
    "        return self.win_count\n",
    "    \n",
    "    def lowestWinDepth(self, node):\n",
    "        for child in node.children:\n",
    "            self.lowestWinDepth(child)\n",
    "                \n",
    "        if not node.validTurn() and not node.player:\n",
    "            #print(\"WIN\")\n",
    "            #node.printNode()\n",
    "            #print(\"--- turn end ---\" + \"\\n\")\n",
    "            if node.depth < self.win_depth:\n",
    "                self.win_node = node\n",
    "                self.win_depth = node.depth\n",
    "        elif not node.validTurn() and node.player:\n",
    "            #print(\"LOSS\")\n",
    "            #node.printNode()\n",
    "            #print(\"--- turn end ---\" + \"\\n\")\n",
    "            return\n",
    "        else:\n",
    "            return\n",
    "        "
   ]
  },
  {
   "cell_type": "code",
   "execution_count": 29,
   "metadata": {},
   "outputs": [],
   "source": [
    "import copy\n",
    "import math"
   ]
  },
  {
   "cell_type": "code",
   "execution_count": 30,
   "metadata": {},
   "outputs": [],
   "source": [
    "nim = [Stack(3), Stack(3), Stack(3)]"
   ]
  },
  {
   "cell_type": "code",
   "execution_count": 31,
   "metadata": {},
   "outputs": [
    {
     "name": "stdout",
     "output_type": "stream",
     "text": [
      "3\n",
      "3\n",
      "3\n"
     ]
    }
   ],
   "source": [
    "for stack in nim: print(stack.size)"
   ]
  },
  {
   "cell_type": "code",
   "execution_count": 32,
   "metadata": {},
   "outputs": [],
   "source": [
    "nim = [Stack(3), Stack(3), Stack(3)]\n",
    "tree = NimTree(nim, False) "
   ]
  },
  {
   "cell_type": "code",
   "execution_count": 33,
   "metadata": {
    "scrolled": true
   },
   "outputs": [
    {
     "name": "stdout",
     "output_type": "stream",
     "text": [
      "3\n",
      "3\n",
      "3\n",
      "\n",
      "\n"
     ]
    }
   ],
   "source": [
    "#this prints the nim state of the origin node of the tree\n",
    "for stack in tree.origin.state: print(stack.size)#, end = \" \")\n",
    "print(\"\\n\") "
   ]
  },
  {
   "cell_type": "code",
   "execution_count": 34,
   "metadata": {},
   "outputs": [
    {
     "name": "stdout",
     "output_type": "stream",
     "text": [
      "2\n",
      "3\n",
      "3\n",
      "\n",
      "\n",
      "1\n",
      "3\n",
      "3\n",
      "\n",
      "\n",
      "0\n",
      "3\n",
      "3\n",
      "\n",
      "\n",
      "3\n",
      "2\n",
      "3\n",
      "\n",
      "\n",
      "3\n",
      "1\n",
      "3\n",
      "\n",
      "\n",
      "3\n",
      "0\n",
      "3\n",
      "\n",
      "\n",
      "3\n",
      "3\n",
      "2\n",
      "\n",
      "\n",
      "3\n",
      "3\n",
      "1\n",
      "\n",
      "\n",
      "3\n",
      "3\n",
      "0\n",
      "\n",
      "\n"
     ]
    }
   ],
   "source": [
    "#This prints the nim state of all of the children nodes of a node (in this case, origin)\n",
    "for child in tree.origin.children:\n",
    "    for stack in child.state: print(stack.size)#, end = \" \")\n",
    "    print(\"\\n\")"
   ]
  },
  {
   "cell_type": "code",
   "execution_count": 35,
   "metadata": {},
   "outputs": [],
   "source": [
    "#Commented out because this takes 5ever to run\n",
    "#We're getting some repeated nodes...I think this is how it should be though?\n",
    "#count = 0\n",
    "#printAllNodes(tree.origin)\n",
    "\n",
    "#print(count)"
   ]
  },
  {
   "cell_type": "code",
   "execution_count": 36,
   "metadata": {
    "scrolled": false
   },
   "outputs": [
    {
     "name": "stdout",
     "output_type": "stream",
     "text": [
      "Node: \n",
      "0\n",
      "0\n",
      "0\n",
      "\n",
      "\n",
      "Player: \n",
      "PUNY HUMAN\n",
      "\n",
      "Depth:  2\n",
      "Parent: \n",
      "0\n",
      "0\n",
      "1\n",
      "\n",
      "\n",
      "Children: \n",
      "--------------\n",
      "Node: \n",
      "0\n",
      "0\n",
      "1\n",
      "\n",
      "\n",
      "Player: \n",
      "AI\n",
      "\n",
      "Depth:  1\n",
      "Parent: \n",
      "0\n",
      "0\n",
      "2\n",
      "\n",
      "\n",
      "Children: \n",
      "0\n",
      "0\n",
      "0\n",
      "\n",
      "\n",
      "--------------\n",
      "Node: \n",
      "0\n",
      "0\n",
      "0\n",
      "\n",
      "\n",
      "Player: \n",
      "AI\n",
      "\n",
      "Depth:  1\n",
      "Parent: \n",
      "0\n",
      "0\n",
      "2\n",
      "\n",
      "\n",
      "Children: \n",
      "--------------\n",
      "Node: \n",
      "0\n",
      "0\n",
      "2\n",
      "\n",
      "\n",
      "Player: \n",
      "PUNY HUMAN\n",
      "\n",
      "Depth:  0\n",
      "Children: \n",
      "0\n",
      "0\n",
      "1\n",
      "\n",
      "\n",
      "0\n",
      "0\n",
      "0\n",
      "\n",
      "\n",
      "--------------\n",
      "Node: \n",
      "0\n",
      "0\n",
      "0\n",
      "\n",
      "\n",
      "Player: \n",
      "AI\n",
      "\n",
      "Depth:  1\n",
      "Parent: \n",
      "0\n",
      "0\n",
      "1\n",
      "\n",
      "\n",
      "Children: \n",
      "--------------\n",
      "Node: \n",
      "0\n",
      "0\n",
      "1\n",
      "\n",
      "\n",
      "Player: \n",
      "PUNY HUMAN\n",
      "\n",
      "Depth:  0\n",
      "Children: \n",
      "0\n",
      "0\n",
      "0\n",
      "\n",
      "\n",
      "--------------\n",
      "Node: \n",
      "0\n",
      "0\n",
      "0\n",
      "\n",
      "\n",
      "Player: \n",
      "PUNY HUMAN\n",
      "\n",
      "Depth:  0\n",
      "Children: \n",
      "--------------\n",
      "Node: \n",
      "0\n",
      "0\n",
      "3\n",
      "\n",
      "\n",
      "Player: \n",
      "AI\n",
      "\n",
      "Depth:  0\n",
      "Children: \n",
      "0\n",
      "0\n",
      "2\n",
      "\n",
      "\n",
      "0\n",
      "0\n",
      "1\n",
      "\n",
      "\n",
      "0\n",
      "0\n",
      "0\n",
      "\n",
      "\n",
      "--------------\n"
     ]
    }
   ],
   "source": [
    "custom_nim = [Stack(0), Stack(0), Stack(3)]\n",
    "custom_tree = NimTree(custom_nim, True)\n",
    "printAllNodes(custom_tree.origin)"
   ]
  },
  {
   "cell_type": "code",
   "execution_count": 37,
   "metadata": {
    "scrolled": true
   },
   "outputs": [
    {
     "name": "stdout",
     "output_type": "stream",
     "text": [
      "2\n"
     ]
    }
   ],
   "source": [
    "print(custom_tree.countWins())"
   ]
  },
  {
   "cell_type": "markdown",
   "metadata": {},
   "source": [
    "<h1> Minimax Algorithm </h1>"
   ]
  },
  {
   "cell_type": "code",
   "execution_count": 38,
   "metadata": {},
   "outputs": [],
   "source": [
    "def minimaxAI(node):\n",
    "    node_win_count = 0\n",
    "    next_move = None\n",
    "    node_children = firstDepthChildren(node.state, node.player)\n",
    "    for child in node_children:\n",
    "        #child.printNode()\n",
    "        child_tree = NimTree(child.state, child.player)\n",
    "        child_wins = child_tree.countWins()\n",
    "        if child_wins > node_win_count:\n",
    "            node_win_count = child_wins\n",
    "            next_move = child\n",
    "    \n",
    "    return node_win_count, next_move\n",
    "    "
   ]
  },
  {
   "cell_type": "code",
   "execution_count": 39,
   "metadata": {},
   "outputs": [
    {
     "name": "stdout",
     "output_type": "stream",
     "text": [
      "AI Wins:  1 \n",
      "\n",
      "Next Move:\n",
      "\n",
      "Node: \n",
      "0\n",
      "0\n",
      "2\n",
      "\n",
      "\n",
      "Player: \n",
      "PUNY HUMAN\n",
      "\n",
      "Depth:  1\n",
      "--------------\n"
     ]
    }
   ],
   "source": [
    "custom_nim = [Stack(0), Stack(0), Stack(3)]\n",
    "custom_nim_node = Node(custom_nim, depth=0, player=True)\n",
    "AI_wins, AI_next_move = minimaxAI(custom_nim_node)\n",
    "print(\"AI Wins: \", AI_wins, \"\\n\\nNext Move:\\n\")\n",
    "AI_next_move.printNode()"
   ]
  },
  {
   "cell_type": "code",
   "execution_count": 40,
   "metadata": {},
   "outputs": [],
   "source": [
    "def gameLoopMinimax(nim, player):\n",
    "    print(\"\\t   GAME START\\nMAY NIMROD HAVE MERCY ON YOUR SOUL\\n----------------------------------\\n\")\n",
    "    current_state = Node(nim, 0)\n",
    "    current_state.player = player\n",
    "    current_state.printNode()\n",
    "    print(\"----------------------------------\\n\")\n",
    "    \n",
    "    while(True):\n",
    "        if(current_state.player): #AI's Turn\n",
    "            AI_wins, AI_next_move = minimaxAI(current_state)\n",
    "            print(AI_wins)\n",
    "            if(AI_wins == 0):\n",
    "                print(\"You Won! Somehow...\")\n",
    "                break\n",
    "                \n",
    "            if(not AI_next_move.validTurn()):\n",
    "                current_state = Node([Stack(0), Stack(0), Stack(0)], 0)\n",
    "                print(\"AI Moves To\")\n",
    "                current_state.printNode()\n",
    "                print(\"THE MIGHTY NIMROD BESTED YOU AGAIN\")\n",
    "                break\n",
    "    \n",
    "            current_state = AI_next_move\n",
    "            \n",
    "            print(\"AI Moves To:\")\n",
    "            current_state.printNode()\n",
    "            print(\"----------------END TURN------------------\\n\")\n",
    "            \n",
    "        else: #Your turn!\n",
    "            print(\"It's Your Turn\")\n",
    "            for stack in current_state.state:\n",
    "                print(\"Stack: \", current_state.state.index(stack), \": \", stack.size)\n",
    "            \n",
    "            stack_choice = int(input(\"Stack: \"))\n",
    "            remove_amount = int(input(\"Stone #: \"))\n",
    "            while(stack_choice > len(current_state.state)-1):\n",
    "                stack_choice = int(input(\"Pick Valid Stack: \"))\n",
    "                remove_amount = int(input(\"Stone #: \"))\n",
    "            while(not current_state.state[stack_choice].removeStone(remove_amount)):\n",
    "                print(\"INVALID CHOICE! THIS ANGERS NIMROD!\")\n",
    "                stack_choice = int(input(\"Pick Valid Stack: \"))\n",
    "                remove_amount = int(input(\"Stone #: \"))\n",
    "            \n",
    "            print(\"\\nYou Move To:\")\n",
    "            current_state.player = not current_state.player\n",
    "            current_state.printNode()\n",
    "            print(\"----------------END TURN------------------\\n\")"
   ]
  },
  {
   "cell_type": "code",
   "execution_count": 167,
   "metadata": {},
   "outputs": [
    {
     "name": "stdout",
     "output_type": "stream",
     "text": [
      "\t   GAME START\n",
      "MAY NIMROD HAVE MERCY ON YOUR SOUL\n",
      "----------------------------------\n",
      "\n",
      "Node: \n",
      "0\n",
      "2\n",
      "3\n",
      "\n",
      "\n",
      "Player: \n",
      "PUNY HUMAN\n",
      "\n",
      "Depth:  0\n",
      "--------------\n",
      "----------------------------------\n",
      "\n",
      "It's Your Turn\n",
      "Stack:  0 :  0\n",
      "Stack:  1 :  2\n",
      "Stack:  2 :  3\n",
      "Stack: 2\n",
      "Stone #: 1\n",
      "\n",
      "You Move To:\n",
      "Node: \n",
      "0\n",
      "2\n",
      "2\n",
      "\n",
      "\n",
      "Player: \n",
      "AI\n",
      "\n",
      "Depth:  0\n",
      "--------------\n",
      "----------------END TURN------------------\n",
      "\n",
      "AI Moves To:\n",
      "Node: \n",
      "0\n",
      "1\n",
      "2\n",
      "\n",
      "\n",
      "Player: \n",
      "PUNY HUMAN\n",
      "\n",
      "Depth:  1\n",
      "--------------\n",
      "----------------END TURN------------------\n",
      "\n",
      "It's Your Turn\n",
      "Stack:  0 :  0\n",
      "Stack:  1 :  1\n",
      "Stack:  2 :  2\n"
     ]
    },
    {
     "ename": "KeyboardInterrupt",
     "evalue": "",
     "output_type": "error",
     "traceback": [
      "\u001b[0;31m---------------------------------------------------------------------------\u001b[0m",
      "\u001b[0;31mKeyboardInterrupt\u001b[0m                         Traceback (most recent call last)",
      "\u001b[0;32m/Library/Frameworks/Python.framework/Versions/3.7/lib/python3.7/site-packages/ipykernel/kernelbase.py\u001b[0m in \u001b[0;36m_input_request\u001b[0;34m(self, prompt, ident, parent, password)\u001b[0m\n\u001b[1;32m    884\u001b[0m             \u001b[0;32mtry\u001b[0m\u001b[0;34m:\u001b[0m\u001b[0;34m\u001b[0m\u001b[0m\n\u001b[0;32m--> 885\u001b[0;31m                 \u001b[0mident\u001b[0m\u001b[0;34m,\u001b[0m \u001b[0mreply\u001b[0m \u001b[0;34m=\u001b[0m \u001b[0mself\u001b[0m\u001b[0;34m.\u001b[0m\u001b[0msession\u001b[0m\u001b[0;34m.\u001b[0m\u001b[0mrecv\u001b[0m\u001b[0;34m(\u001b[0m\u001b[0mself\u001b[0m\u001b[0;34m.\u001b[0m\u001b[0mstdin_socket\u001b[0m\u001b[0;34m,\u001b[0m \u001b[0;36m0\u001b[0m\u001b[0;34m)\u001b[0m\u001b[0;34m\u001b[0m\u001b[0m\n\u001b[0m\u001b[1;32m    886\u001b[0m             \u001b[0;32mexcept\u001b[0m \u001b[0mException\u001b[0m\u001b[0;34m:\u001b[0m\u001b[0;34m\u001b[0m\u001b[0m\n",
      "\u001b[0;32m/Library/Frameworks/Python.framework/Versions/3.7/lib/python3.7/site-packages/jupyter_client/session.py\u001b[0m in \u001b[0;36mrecv\u001b[0;34m(self, socket, mode, content, copy)\u001b[0m\n\u001b[1;32m    802\u001b[0m         \u001b[0;32mtry\u001b[0m\u001b[0;34m:\u001b[0m\u001b[0;34m\u001b[0m\u001b[0m\n\u001b[0;32m--> 803\u001b[0;31m             \u001b[0mmsg_list\u001b[0m \u001b[0;34m=\u001b[0m \u001b[0msocket\u001b[0m\u001b[0;34m.\u001b[0m\u001b[0mrecv_multipart\u001b[0m\u001b[0;34m(\u001b[0m\u001b[0mmode\u001b[0m\u001b[0;34m,\u001b[0m \u001b[0mcopy\u001b[0m\u001b[0;34m=\u001b[0m\u001b[0mcopy\u001b[0m\u001b[0;34m)\u001b[0m\u001b[0;34m\u001b[0m\u001b[0m\n\u001b[0m\u001b[1;32m    804\u001b[0m         \u001b[0;32mexcept\u001b[0m \u001b[0mzmq\u001b[0m\u001b[0;34m.\u001b[0m\u001b[0mZMQError\u001b[0m \u001b[0;32mas\u001b[0m \u001b[0me\u001b[0m\u001b[0;34m:\u001b[0m\u001b[0;34m\u001b[0m\u001b[0m\n",
      "\u001b[0;32m/Library/Frameworks/Python.framework/Versions/3.7/lib/python3.7/site-packages/zmq/sugar/socket.py\u001b[0m in \u001b[0;36mrecv_multipart\u001b[0;34m(self, flags, copy, track)\u001b[0m\n\u001b[1;32m    469\u001b[0m         \"\"\"\n\u001b[0;32m--> 470\u001b[0;31m         \u001b[0mparts\u001b[0m \u001b[0;34m=\u001b[0m \u001b[0;34m[\u001b[0m\u001b[0mself\u001b[0m\u001b[0;34m.\u001b[0m\u001b[0mrecv\u001b[0m\u001b[0;34m(\u001b[0m\u001b[0mflags\u001b[0m\u001b[0;34m,\u001b[0m \u001b[0mcopy\u001b[0m\u001b[0;34m=\u001b[0m\u001b[0mcopy\u001b[0m\u001b[0;34m,\u001b[0m \u001b[0mtrack\u001b[0m\u001b[0;34m=\u001b[0m\u001b[0mtrack\u001b[0m\u001b[0;34m)\u001b[0m\u001b[0;34m]\u001b[0m\u001b[0;34m\u001b[0m\u001b[0m\n\u001b[0m\u001b[1;32m    471\u001b[0m         \u001b[0;31m# have first part already, only loop while more to receive\u001b[0m\u001b[0;34m\u001b[0m\u001b[0;34m\u001b[0m\u001b[0m\n",
      "\u001b[0;32mzmq/backend/cython/socket.pyx\u001b[0m in \u001b[0;36mzmq.backend.cython.socket.Socket.recv\u001b[0;34m()\u001b[0m\n",
      "\u001b[0;32mzmq/backend/cython/socket.pyx\u001b[0m in \u001b[0;36mzmq.backend.cython.socket.Socket.recv\u001b[0;34m()\u001b[0m\n",
      "\u001b[0;32mzmq/backend/cython/socket.pyx\u001b[0m in \u001b[0;36mzmq.backend.cython.socket._recv_copy\u001b[0;34m()\u001b[0m\n",
      "\u001b[0;32m/Library/Frameworks/Python.framework/Versions/3.7/lib/python3.7/site-packages/zmq/backend/cython/checkrc.pxd\u001b[0m in \u001b[0;36mzmq.backend.cython.checkrc._check_rc\u001b[0;34m()\u001b[0m\n",
      "\u001b[0;31mKeyboardInterrupt\u001b[0m: ",
      "\nDuring handling of the above exception, another exception occurred:\n",
      "\u001b[0;31mKeyboardInterrupt\u001b[0m                         Traceback (most recent call last)",
      "\u001b[0;32m<ipython-input-167-e71b28aa1428>\u001b[0m in \u001b[0;36m<module>\u001b[0;34m\u001b[0m\n\u001b[1;32m      1\u001b[0m \u001b[0mtest_nim\u001b[0m \u001b[0;34m=\u001b[0m \u001b[0;34m[\u001b[0m\u001b[0mStack\u001b[0m\u001b[0;34m(\u001b[0m\u001b[0;36m0\u001b[0m\u001b[0;34m)\u001b[0m\u001b[0;34m,\u001b[0m \u001b[0mStack\u001b[0m\u001b[0;34m(\u001b[0m\u001b[0;36m2\u001b[0m\u001b[0;34m)\u001b[0m\u001b[0;34m,\u001b[0m \u001b[0mStack\u001b[0m\u001b[0;34m(\u001b[0m\u001b[0;36m3\u001b[0m\u001b[0;34m)\u001b[0m\u001b[0;34m]\u001b[0m\u001b[0;34m\u001b[0m\u001b[0m\n\u001b[0;32m----> 2\u001b[0;31m \u001b[0mgameLoop\u001b[0m\u001b[0;34m(\u001b[0m\u001b[0mtest_nim\u001b[0m\u001b[0;34m,\u001b[0m \u001b[0;32mFalse\u001b[0m\u001b[0;34m)\u001b[0m\u001b[0;34m\u001b[0m\u001b[0m\n\u001b[0m",
      "\u001b[0;32m<ipython-input-43-97a2bbf7ba8d>\u001b[0m in \u001b[0;36mgameLoop\u001b[0;34m(nim, player)\u001b[0m\n\u001b[1;32m     31\u001b[0m                 \u001b[0mprint\u001b[0m\u001b[0;34m(\u001b[0m\u001b[0;34m\"Stack: \"\u001b[0m\u001b[0;34m,\u001b[0m \u001b[0mcurrent_state\u001b[0m\u001b[0;34m.\u001b[0m\u001b[0mstate\u001b[0m\u001b[0;34m.\u001b[0m\u001b[0mindex\u001b[0m\u001b[0;34m(\u001b[0m\u001b[0mstack\u001b[0m\u001b[0;34m)\u001b[0m\u001b[0;34m,\u001b[0m \u001b[0;34m\": \"\u001b[0m\u001b[0;34m,\u001b[0m \u001b[0mstack\u001b[0m\u001b[0;34m.\u001b[0m\u001b[0msize\u001b[0m\u001b[0;34m)\u001b[0m\u001b[0;34m\u001b[0m\u001b[0m\n\u001b[1;32m     32\u001b[0m \u001b[0;34m\u001b[0m\u001b[0m\n\u001b[0;32m---> 33\u001b[0;31m             \u001b[0mstack_choice\u001b[0m \u001b[0;34m=\u001b[0m \u001b[0mint\u001b[0m\u001b[0;34m(\u001b[0m\u001b[0minput\u001b[0m\u001b[0;34m(\u001b[0m\u001b[0;34m\"Stack: \"\u001b[0m\u001b[0;34m)\u001b[0m\u001b[0;34m)\u001b[0m\u001b[0;34m\u001b[0m\u001b[0m\n\u001b[0m\u001b[1;32m     34\u001b[0m             \u001b[0mremove_amount\u001b[0m \u001b[0;34m=\u001b[0m \u001b[0mint\u001b[0m\u001b[0;34m(\u001b[0m\u001b[0minput\u001b[0m\u001b[0;34m(\u001b[0m\u001b[0;34m\"Stone #: \"\u001b[0m\u001b[0;34m)\u001b[0m\u001b[0;34m)\u001b[0m\u001b[0;34m\u001b[0m\u001b[0m\n\u001b[1;32m     35\u001b[0m             \u001b[0;32mwhile\u001b[0m\u001b[0;34m(\u001b[0m\u001b[0mstack_choice\u001b[0m \u001b[0;34m>\u001b[0m \u001b[0mlen\u001b[0m\u001b[0;34m(\u001b[0m\u001b[0mcurrent_state\u001b[0m\u001b[0;34m.\u001b[0m\u001b[0mstate\u001b[0m\u001b[0;34m)\u001b[0m\u001b[0;34m-\u001b[0m\u001b[0;36m1\u001b[0m\u001b[0;34m)\u001b[0m\u001b[0;34m:\u001b[0m\u001b[0;34m\u001b[0m\u001b[0m\n",
      "\u001b[0;32m/Library/Frameworks/Python.framework/Versions/3.7/lib/python3.7/site-packages/ipykernel/kernelbase.py\u001b[0m in \u001b[0;36mraw_input\u001b[0;34m(self, prompt)\u001b[0m\n\u001b[1;32m    858\u001b[0m             \u001b[0mself\u001b[0m\u001b[0;34m.\u001b[0m\u001b[0m_parent_ident\u001b[0m\u001b[0;34m,\u001b[0m\u001b[0;34m\u001b[0m\u001b[0m\n\u001b[1;32m    859\u001b[0m             \u001b[0mself\u001b[0m\u001b[0;34m.\u001b[0m\u001b[0m_parent_header\u001b[0m\u001b[0;34m,\u001b[0m\u001b[0;34m\u001b[0m\u001b[0m\n\u001b[0;32m--> 860\u001b[0;31m             \u001b[0mpassword\u001b[0m\u001b[0;34m=\u001b[0m\u001b[0;32mFalse\u001b[0m\u001b[0;34m,\u001b[0m\u001b[0;34m\u001b[0m\u001b[0m\n\u001b[0m\u001b[1;32m    861\u001b[0m         )\n\u001b[1;32m    862\u001b[0m \u001b[0;34m\u001b[0m\u001b[0m\n",
      "\u001b[0;32m/Library/Frameworks/Python.framework/Versions/3.7/lib/python3.7/site-packages/ipykernel/kernelbase.py\u001b[0m in \u001b[0;36m_input_request\u001b[0;34m(self, prompt, ident, parent, password)\u001b[0m\n\u001b[1;32m    888\u001b[0m             \u001b[0;32mexcept\u001b[0m \u001b[0mKeyboardInterrupt\u001b[0m\u001b[0;34m:\u001b[0m\u001b[0;34m\u001b[0m\u001b[0m\n\u001b[1;32m    889\u001b[0m                 \u001b[0;31m# re-raise KeyboardInterrupt, to truncate traceback\u001b[0m\u001b[0;34m\u001b[0m\u001b[0;34m\u001b[0m\u001b[0m\n\u001b[0;32m--> 890\u001b[0;31m                 \u001b[0;32mraise\u001b[0m \u001b[0mKeyboardInterrupt\u001b[0m\u001b[0;34m\u001b[0m\u001b[0m\n\u001b[0m\u001b[1;32m    891\u001b[0m             \u001b[0;32melse\u001b[0m\u001b[0;34m:\u001b[0m\u001b[0;34m\u001b[0m\u001b[0m\n\u001b[1;32m    892\u001b[0m                 \u001b[0;32mbreak\u001b[0m\u001b[0;34m\u001b[0m\u001b[0m\n",
      "\u001b[0;31mKeyboardInterrupt\u001b[0m: "
     ]
    }
   ],
   "source": [
    "test_nim = [Stack(0), Stack(2), Stack(3)]\n",
    "gameLoopMinimax(test_nim, False)"
   ]
  },
  {
   "cell_type": "markdown",
   "metadata": {},
   "source": [
    "<h1>Depth Heuristic</h1>"
   ]
  },
  {
   "cell_type": "code",
   "execution_count": 42,
   "metadata": {},
   "outputs": [],
   "source": [
    "def depthAI(node):\n",
    "    current_depth = 100\n",
    "    next_move = None\n",
    "    node_children = firstDepthChildren(node.state, node.player)\n",
    "    for child in node_children:\n",
    "        child_tree = NimTree(child.state, child.player)\n",
    "        child_tree.lowestWinDepth(child_tree.origin)\n",
    "        if child_tree.win_depth < current_depth:\n",
    "            current_depth = child_tree.win_depth\n",
    "            next_move = child\n",
    "    return next_move"
   ]
  },
  {
   "cell_type": "code",
   "execution_count": 43,
   "metadata": {},
   "outputs": [],
   "source": [
    "def gameLoopDepth(nim, player):\n",
    "    print(\"\\t   GAME START\\nMAY NIMROD HAVE MERCY ON YOUR SOUL\\n----------------------------------\\n\")\n",
    "    current_state = Node(nim, 0)\n",
    "    current_state.player = player\n",
    "    current_state.printNode()\n",
    "    print(\"----------------------------------\\n\")\n",
    "    \n",
    "    while(True):\n",
    "        if(current_state.player): #AI's Turn\n",
    "            AI_next_move = depthAI(current_state)\n",
    "            if(AI_next_move == None):\n",
    "                print(\"You Won! Somehow...\")\n",
    "                break\n",
    "                \n",
    "            if(not AI_next_move.validTurn()):\n",
    "                current_state = Node([Stack(0), Stack(0), Stack(0)], 0)\n",
    "                print(\"AI Moves To\")\n",
    "                current_state.printNode()\n",
    "                print(\"THE MIGHTY NIMROD BESTED YOU AGAIN\")\n",
    "                break\n",
    "    \n",
    "            current_state = AI_next_move\n",
    "            \n",
    "            print(\"AI Moves To:\")\n",
    "            current_state.printNode()\n",
    "            print(\"----------------END TURN------------------\\n\")\n",
    "            \n",
    "        else: #Your turn!\n",
    "            print(\"It's Your Turn\")\n",
    "            for stack in current_state.state:\n",
    "                print(\"Stack: \", current_state.state.index(stack), \": \", stack.size)\n",
    "            \n",
    "            stack_choice = int(input(\"Stack: \"))\n",
    "            remove_amount = int(input(\"Stone #: \"))\n",
    "            while(stack_choice > len(current_state.state)-1):\n",
    "                stack_choice = int(input(\"Pick Valid Stack: \"))\n",
    "                remove_amount = int(input(\"Stone #: \"))\n",
    "            while(not current_state.state[stack_choice].removeStone(remove_amount)):\n",
    "                print(\"INVALID CHOICE! THIS ANGERS NIMROD!\")\n",
    "                stack_choice = int(input(\"Pick Valid Stack: \"))\n",
    "                remove_amount = int(input(\"Stone #: \"))\n",
    "            \n",
    "            print(\"\\nYou Move To:\")\n",
    "            current_state.player = not current_state.player\n",
    "            current_state.printNode()\n",
    "            print(\"----------------END TURN------------------\\n\")"
   ]
  },
  {
   "cell_type": "code",
   "execution_count": 44,
   "metadata": {},
   "outputs": [
    {
     "name": "stdout",
     "output_type": "stream",
     "text": [
      "\t   GAME START\n",
      "MAY NIMROD HAVE MERCY ON YOUR SOUL\n",
      "----------------------------------\n",
      "\n",
      "Node: \n",
      "3\n",
      "3\n",
      "3\n",
      "\n",
      "\n",
      "Player: \n",
      "PUNY HUMAN\n",
      "\n",
      "Depth:  0\n",
      "--------------\n",
      "----------------------------------\n",
      "\n",
      "It's Your Turn\n",
      "Stack:  0 :  3\n",
      "Stack:  1 :  3\n",
      "Stack:  2 :  3\n",
      "Stack: \n"
     ]
    },
    {
     "ename": "ValueError",
     "evalue": "invalid literal for int() with base 10: ''",
     "output_type": "error",
     "traceback": [
      "\u001b[0;31m---------------------------------------------------------------------------\u001b[0m",
      "\u001b[0;31mValueError\u001b[0m                                Traceback (most recent call last)",
      "\u001b[0;32m<ipython-input-44-b4225af2eadd>\u001b[0m in \u001b[0;36m<module>\u001b[0;34m\u001b[0m\n\u001b[1;32m      1\u001b[0m \u001b[0mtest_nim\u001b[0m \u001b[0;34m=\u001b[0m \u001b[0;34m[\u001b[0m\u001b[0mStack\u001b[0m\u001b[0;34m(\u001b[0m\u001b[0;36m3\u001b[0m\u001b[0;34m)\u001b[0m\u001b[0;34m,\u001b[0m \u001b[0mStack\u001b[0m\u001b[0;34m(\u001b[0m\u001b[0;36m3\u001b[0m\u001b[0;34m)\u001b[0m\u001b[0;34m,\u001b[0m \u001b[0mStack\u001b[0m\u001b[0;34m(\u001b[0m\u001b[0;36m3\u001b[0m\u001b[0;34m)\u001b[0m\u001b[0;34m]\u001b[0m\u001b[0;34m\u001b[0m\u001b[0m\n\u001b[0;32m----> 2\u001b[0;31m \u001b[0mgameLoop\u001b[0m\u001b[0;34m(\u001b[0m\u001b[0mtest_nim\u001b[0m\u001b[0;34m,\u001b[0m \u001b[0;32mFalse\u001b[0m\u001b[0;34m)\u001b[0m\u001b[0;34m\u001b[0m\u001b[0m\n\u001b[0m",
      "\u001b[0;32m<ipython-input-43-97a2bbf7ba8d>\u001b[0m in \u001b[0;36mgameLoop\u001b[0;34m(nim, player)\u001b[0m\n\u001b[1;32m     31\u001b[0m                 \u001b[0mprint\u001b[0m\u001b[0;34m(\u001b[0m\u001b[0;34m\"Stack: \"\u001b[0m\u001b[0;34m,\u001b[0m \u001b[0mcurrent_state\u001b[0m\u001b[0;34m.\u001b[0m\u001b[0mstate\u001b[0m\u001b[0;34m.\u001b[0m\u001b[0mindex\u001b[0m\u001b[0;34m(\u001b[0m\u001b[0mstack\u001b[0m\u001b[0;34m)\u001b[0m\u001b[0;34m,\u001b[0m \u001b[0;34m\": \"\u001b[0m\u001b[0;34m,\u001b[0m \u001b[0mstack\u001b[0m\u001b[0;34m.\u001b[0m\u001b[0msize\u001b[0m\u001b[0;34m)\u001b[0m\u001b[0;34m\u001b[0m\u001b[0m\n\u001b[1;32m     32\u001b[0m \u001b[0;34m\u001b[0m\u001b[0m\n\u001b[0;32m---> 33\u001b[0;31m             \u001b[0mstack_choice\u001b[0m \u001b[0;34m=\u001b[0m \u001b[0mint\u001b[0m\u001b[0;34m(\u001b[0m\u001b[0minput\u001b[0m\u001b[0;34m(\u001b[0m\u001b[0;34m\"Stack: \"\u001b[0m\u001b[0;34m)\u001b[0m\u001b[0;34m)\u001b[0m\u001b[0;34m\u001b[0m\u001b[0m\n\u001b[0m\u001b[1;32m     34\u001b[0m             \u001b[0mremove_amount\u001b[0m \u001b[0;34m=\u001b[0m \u001b[0mint\u001b[0m\u001b[0;34m(\u001b[0m\u001b[0minput\u001b[0m\u001b[0;34m(\u001b[0m\u001b[0;34m\"Stone #: \"\u001b[0m\u001b[0;34m)\u001b[0m\u001b[0;34m)\u001b[0m\u001b[0;34m\u001b[0m\u001b[0m\n\u001b[1;32m     35\u001b[0m             \u001b[0;32mwhile\u001b[0m\u001b[0;34m(\u001b[0m\u001b[0mstack_choice\u001b[0m \u001b[0;34m>\u001b[0m \u001b[0mlen\u001b[0m\u001b[0;34m(\u001b[0m\u001b[0mcurrent_state\u001b[0m\u001b[0;34m.\u001b[0m\u001b[0mstate\u001b[0m\u001b[0;34m)\u001b[0m\u001b[0;34m-\u001b[0m\u001b[0;36m1\u001b[0m\u001b[0;34m)\u001b[0m\u001b[0;34m:\u001b[0m\u001b[0;34m\u001b[0m\u001b[0m\n",
      "\u001b[0;31mValueError\u001b[0m: invalid literal for int() with base 10: ''"
     ]
    }
   ],
   "source": [
    "test_nim = [Stack(3), Stack(3), Stack(3)]\n",
    "gameLoopDepth(test_nim, False)"
   ]
  },
  {
   "cell_type": "markdown",
   "metadata": {},
   "source": [
    "<h1> Perfect Binary Static Heuristic </h1>"
   ]
  },
  {
   "cell_type": "raw",
   "metadata": {},
   "source": [
    "The idea here is we always want to move to an EVEN state. By even, I mean the binary digital sums is composed of even numbers. So, for example, 033 is, in binary, 000 011 011. The binary digital sum is therefore 022. This is an impossible to win scenario and always reachable in some way. "
   ]
  },
  {
   "cell_type": "code",
   "execution_count": 45,
   "metadata": {},
   "outputs": [],
   "source": [
    "def binarySplit(num, length):\n",
    "    return list(str(bin(num))[2:])"
   ]
  },
  {
   "cell_type": "code",
   "execution_count": 147,
   "metadata": {},
   "outputs": [],
   "source": [
    "def binaryHeuristic(node):\n",
    "    binary_list = []\n",
    "    length = 0\n",
    "    for stack in node.state:\n",
    "        binary_list.append(binarySplit(stack.size))\n",
    "    for item in binary_list:\n",
    "        if len(item) > length:\n",
    "            length = len(item)\n",
    "    for item in binary_list:\n",
    "        if len(item) < length:\n",
    "            for i in range(length-len(item)):\n",
    "                item.insert(0,'0')\n",
    "    return binary_list"
   ]
  },
  {
   "cell_type": "code",
   "execution_count": 148,
   "metadata": {},
   "outputs": [],
   "source": [
    "def binaryDigitalSum(binary_list):\n",
    "    sum = []\n",
    "    for i in range(len(binary_list[0])):\n",
    "        sum.append(0)\n",
    "    for each in binary_list:\n",
    "        for i in range(len(each)):\n",
    "            sum[i] += int(each[i])\n",
    "    return sum"
   ]
  },
  {
   "cell_type": "code",
   "execution_count": 149,
   "metadata": {},
   "outputs": [],
   "source": [
    "def allEven(binary_list):\n",
    "    for num in binary_list:\n",
    "        if num % 2 != 0:\n",
    "            return False\n",
    "    return True"
   ]
  },
  {
   "cell_type": "code",
   "execution_count": 160,
   "metadata": {},
   "outputs": [
    {
     "data": {
      "text/plain": [
       "True"
      ]
     },
     "execution_count": 160,
     "metadata": {},
     "output_type": "execute_result"
    }
   ],
   "source": [
    "custom_nim = [Stack(0), Stack(2), Stack(2)]\n",
    "custom_nim_node = Node(custom_nim, depth=0, player=True)\n",
    "binaryHeuristic(custom_nim_node)\n",
    "allEven(binaryDigitalSum(binaryHeuristic(custom_nim_node)))"
   ]
  },
  {
   "cell_type": "code",
   "execution_count": 165,
   "metadata": {},
   "outputs": [],
   "source": [
    "def perfectAI(node): #Currently: no depth calculation\n",
    "    node_children = firstDepthChildren(node.state, node.player)\n",
    "    for each in node_children:\n",
    "        binary_sum = binaryDigitalSum(binaryHeuristic(each))\n",
    "        if(allEven(binary_sum)):\n",
    "            next_move = each\n",
    "            next_move.printNode()\n",
    "            return next_move\n",
    "        \n",
    "    node_win_count = 0 #If already in a losing state, go whichever path has the most wins. There's a more elegant solution for this\n",
    "    for child in node_children:\n",
    "        #child.printNode()\n",
    "        child_tree = NimTree(child.state, child.player)\n",
    "        child_wins = child_tree.countWins()\n",
    "        if child_wins > node_win_count:\n",
    "            node_win_count = child_wins\n",
    "            next_move = child\n",
    "    return next_move"
   ]
  },
  {
   "cell_type": "code",
   "execution_count": 171,
   "metadata": {
    "scrolled": true
   },
   "outputs": [
    {
     "name": "stdout",
     "output_type": "stream",
     "text": [
      "Node: \n",
      "0\n",
      "2\n",
      "2\n",
      "\n",
      "\n",
      "Player: \n",
      "PUNY HUMAN\n",
      "\n",
      "Depth:  1\n",
      "--------------\n",
      "Node: \n",
      "0\n",
      "2\n",
      "2\n",
      "\n",
      "\n",
      "Player: \n",
      "PUNY HUMAN\n",
      "\n",
      "Depth:  1\n",
      "--------------\n"
     ]
    }
   ],
   "source": [
    "custom_nim = [Stack(0), Stack(2), Stack(3)]\n",
    "custom_nim_node = Node(custom_nim, depth=0, player=True)\n",
    "test_node = perfectAI(custom_nim_node)\n",
    "test_node.printNode()"
   ]
  },
  {
   "cell_type": "code",
   "execution_count": 174,
   "metadata": {},
   "outputs": [],
   "source": [
    "def gameLoopStatic(nim, player):\n",
    "    print(\"\\t   GAME START\\nMAY NIMROD HAVE MERCY ON YOUR SOUL\\n----------------------------------\\n\")\n",
    "    current_state = Node(nim, 0)\n",
    "    current_state.player = player\n",
    "    current_state.printNode()\n",
    "    print(\"----------------------------------\\n\")\n",
    "    \n",
    "    while(True):\n",
    "        if(current_state.player): #AI's Turn\n",
    "            AI_next_move = perfectAI(current_state)\n",
    "            if(AI_next_move == None):\n",
    "                print(\"You Won! Somehow...\")\n",
    "                break\n",
    "                \n",
    "            if(not AI_next_move.validTurn()):\n",
    "                current_state = Node([Stack(0), Stack(0), Stack(0)], 0)\n",
    "                print(\"AI Moves To\")\n",
    "                current_state.printNode()\n",
    "                print(\"THE MIGHTY NIMROD BESTED YOU AGAIN\")\n",
    "                break\n",
    "    \n",
    "            current_state = AI_next_move\n",
    "            \n",
    "            print(\"AI Moves To:\")\n",
    "            current_state.printNode()\n",
    "            print(\"----------------END TURN------------------\\n\")\n",
    "            \n",
    "        else: #Your turn!\n",
    "            print(\"It's Your Turn\")\n",
    "            for stack in current_state.state:\n",
    "                print(\"Stack: \", current_state.state.index(stack), \": \", stack.size)\n",
    "            \n",
    "            stack_choice = int(input(\"Stack: \"))\n",
    "            remove_amount = int(input(\"Stone #: \"))\n",
    "            while(stack_choice > len(current_state.state)-1):\n",
    "                stack_choice = int(input(\"Pick Valid Stack: \"))\n",
    "                remove_amount = int(input(\"Stone #: \"))\n",
    "            while(not current_state.state[stack_choice].removeStone(remove_amount)):\n",
    "                print(\"INVALID CHOICE! THIS ANGERS NIMROD!\")\n",
    "                stack_choice = int(input(\"Pick Valid Stack: \"))\n",
    "                remove_amount = int(input(\"Stone #: \"))\n",
    "            \n",
    "            print(\"\\nYou Move To:\")\n",
    "            current_state.player = not current_state.player\n",
    "            current_state.printNode()\n",
    "            print(\"----------------END TURN------------------\\n\")"
   ]
  },
  {
   "cell_type": "markdown",
   "metadata": {},
   "source": [
    "test_nim = [Stack(0), Stack(2), Stack(3)]\n",
    "gameLoopStatic(test_nim, True)"
   ]
  },
  {
   "cell_type": "markdown",
   "metadata": {},
   "source": [
    "<h1> Try Them All! </h1>"
   ]
  },
  {
   "cell_type": "code",
   "execution_count": null,
   "metadata": {},
   "outputs": [],
   "source": [
    "test_nim = [Stack(3), Stack(3), Stack(3)]\n",
    "gameLoopMinimax(test_nim, True) #AI goes first\n",
    "gameLoopDepth(test_nim, True)\n",
    "gameLoopStatic(test_nim, True)"
   ]
  },
  {
   "cell_type": "markdown",
   "metadata": {},
   "source": [
    "<h1> Closing Thoughts </h1>"
   ]
  },
  {
   "cell_type": "markdown",
   "metadata": {},
   "source": [
    "There's certainly PLENTY of polish that can be added to this project. The code can certainly be cleaner (there's several instances of redundancy and inconsistency withiin certain classes), organized better (test code is currently scattered throughout), and several things that can be done to the ACTUAL AI. A \"perfect\" heuristic would probably be some combination of the three (due to the random nature of human), although that would take plenty of tinkering around with different levels of depth. For example, a heuristic only chasing wins will behave stupidly at times, but a depth-heuristic might pigeonhole itself down a very specific scenario that has an easy win. The binary static heuristic is mathematically the best, but when stuck in a losing situation, there is most certainly a more elegant way to pick the \"best\" path than just counting the number of wins. A much better solution would be some combination of quickly arriving at an odd scenario while also leaving flexibility for multiple odd scenarios. As far as speed--this algorithm is painfully slow, although it does a FANTASTIC job of hiding. Simply put, humans are stupid: generating trees relies on creating EVERY possibility (down to different roles, parents, etc.) instead of simply the \"logical\" ones. Also, since the \"wins\" rely on generating the FINAL leaf, alpha-beta pruning is impossible to implement since we MUST generate all the way down anyway.\n",
    "\n",
    "As always, improvement is infinite. Nonetheless, I am very excited about beginning my first foray into AI. And so we beat on, boats against the current, always advancing despite the past. "
   ]
  }
 ],
 "metadata": {
  "kernelspec": {
   "display_name": "Python 3",
   "language": "python",
   "name": "python3"
  },
  "language_info": {
   "codemirror_mode": {
    "name": "ipython",
    "version": 3
   },
   "file_extension": ".py",
   "mimetype": "text/x-python",
   "name": "python",
   "nbconvert_exporter": "python",
   "pygments_lexer": "ipython3",
   "version": "3.7.0"
  }
 },
 "nbformat": 4,
 "nbformat_minor": 2
}
