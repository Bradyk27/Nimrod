{
 "cells": [
  {
   "cell_type": "markdown",
   "metadata": {},
   "source": [
    "<h2> Brady Kruse & Marcus Jordan </h2>"
   ]
  },
  {
   "cell_type": "markdown",
   "metadata": {},
   "source": [
    "<h1> Nim Rules (for reference) </h1>"
   ]
  },
  {
   "cell_type": "raw",
   "metadata": {},
   "source": [
    "The basic Nim begins with two players and several heaps, each containing several objects. Occasionally, heaps are also called piles, and the objects are called stones.\n",
    "\n",
    "Each player, in turn, must take at least one stone, but they may take more than one stone as long as they all come from the same pile. It's allowed to make a pile empty, effectively removing the pile out of the game. When a player is unable to move, the game ends. Naturally, as long as there is a stone, either player can take that stone, and thus can move. So the ending condition can be rephrased, where the game ends if there is no stone left.\n",
    "\n",
    "In normal Nim, the loser is the player unable to move. It is called normal condition by convention from combinatorial game theory, where a normal game gives the win to the last player making a move. In misère Nim, the player unable to move wins instead; this is equivalent to the player taking the last stone losing."
   ]
  },
  {
   "cell_type": "markdown",
   "metadata": {},
   "source": [
    "<h2> To Dos </h2>"
   ]
  },
  {
   "cell_type": "markdown",
   "metadata": {},
   "source": [
    "1) Running Minimax, setting up scores, etc.\n",
    "1.5) Heuristic\n",
    "\n",
    "2) Put some gui in!"
   ]
  },
  {
   "cell_type": "markdown",
   "metadata": {},
   "source": [
    "<h1> Nim Rules & Tree Setup </h1>"
   ]
  },
  {
   "cell_type": "markdown",
   "metadata": {},
   "source": [
    "#Nim is a game w/ a collection of an arbitrary number of stacks & an arbitrary number of stones per stack\n",
    "#Players take turns removing stones (they can remove as many as they want / can (no negative stones) or as a few as they want / can but HAVE to remove 1)\n",
    "#So what I've done is thus:\n",
    "#The Stack class acts as a stack\n",
    "#nim is a starting state of the game, represented by an array of stacks.\n",
    "#Node is simply a node containing a current state of nim (an array of stacks) that also links to its children and has its player status\n",
    "#NimTree is a class containing, you guessed it, a tree of Nim Nodes. "
   ]
  },
  {
   "cell_type": "code",
   "execution_count": 61,
   "metadata": {},
   "outputs": [],
   "source": [
    "def childrenPopulate(nim):\n",
    "    children = []\n",
    "    stack_index = 0\n",
    "    for each in nim:\n",
    "        for i in range(1, each.size+1):\n",
    "            temp_nim = copy.deepcopy(nim)\n",
    "            temp_nim[stack_index].removeStone(i)\n",
    "            children.append(Node(temp_nim, childrenPopulate(temp_nim)))\n",
    "        stack_index += 1\n",
    "    return children\n",
    "\n",
    "def firstDepthChildren(nim, player):\n",
    "    children = []\n",
    "    stack_index = 0\n",
    "    for stack in nim:\n",
    "        for i in range(1, stack.size+1):\n",
    "            temp_nim = copy.deepcopy(nim)\n",
    "            temp_nim[stack_index].removeStone(i)\n",
    "            children.append(Node(temp_nim, player= not player))\n",
    "        stack_index += 1\n",
    "    return children"
   ]
  },
  {
   "cell_type": "code",
   "execution_count": 62,
   "metadata": {},
   "outputs": [],
   "source": [
    "def playerSet(node, role):\n",
    "    node.player = role\n",
    "    for child in node.children:\n",
    "        playerSet(child, not node.player)"
   ]
  },
  {
   "cell_type": "code",
   "execution_count": 63,
   "metadata": {},
   "outputs": [],
   "source": [
    "count = 0\n",
    "def printAllNodes(node):\n",
    "    global count\n",
    "    children = node.children\n",
    "    for child in children:\n",
    "        printAllNodes(child)\n",
    "    \n",
    "    node.printNode()\n",
    "    count += 1"
   ]
  },
  {
   "cell_type": "code",
   "execution_count": 64,
   "metadata": {},
   "outputs": [],
   "source": [
    "class Stack:\n",
    "    def __init__(self, size):\n",
    "        self.size = size\n",
    "        self.original_size = size\n",
    "    \n",
    "    def removeStone(self, amount):\n",
    "        if amount <= self.size and amount != 0:\n",
    "            self.size -= amount\n",
    "            return True #Indicates a valid turn\n",
    "        \n",
    "        return False #Indicates an invalid turn"
   ]
  },
  {
   "cell_type": "code",
   "execution_count": 65,
   "metadata": {},
   "outputs": [],
   "source": [
    "class Node: #For ease, TRUE is the MAX player and FALSE is the MIN player\n",
    "    def __init__(self, state, children=None, parent=None, player=None): #Might need parent...but at the same time, do we even care about the parent? Would we use it?\n",
    "        self.state = state\n",
    "        self.parent = parent\n",
    "        self.children = children\n",
    "        self.player = None\n",
    "        if children != None:\n",
    "            for child in self.children:\n",
    "                child.parent = self\n",
    "    \n",
    "    def printNode(self): #Have no idea why, on Ubuntu end = \"\" throws a syntax error? Something to do w/ how printing is handled\n",
    "        print(\"Node: \")\n",
    "        for stack in self.state: print(stack.size)#, end=\" \")\n",
    "        print(\"\\n\")\n",
    "    \n",
    "        print(\"Player: \")#, end =\"\")\n",
    "        if (self.player):\n",
    "            print(\"AI\\n\")\n",
    "        else:\n",
    "            print(\"PUNY HUMAN\\n\")\n",
    "\n",
    "        if(self.parent != None):\n",
    "            print(\"Parent: \")\n",
    "            for stack in self.parent.state: print(stack.size)#, end = \" \")\n",
    "            print(\"\\n\")\n",
    "\n",
    "        if(self.children != None):\n",
    "            print(\"Children: \")\n",
    "            for child in self.children:\n",
    "                for stack in child.state: print(stack.size)#, end = \" \")\n",
    "                print(\"\\n\")\n",
    "        \n",
    "    def validTurn(self): #Check each stack, if all are 0, no valid turns are left & Return false. \n",
    "        dead_stacks = 0\n",
    "        for stack in self.state:\n",
    "            if stack.size == 0:\n",
    "                dead_stacks+=1\n",
    "        if(dead_stacks == len(self.state)):\n",
    "            return False\n",
    "        return True\n",
    "        "
   ]
  },
  {
   "cell_type": "code",
   "execution_count": 66,
   "metadata": {},
   "outputs": [],
   "source": [
    "class NimTree:\n",
    "    def __init__(self, nim, player):\n",
    "        self.nim = nim\n",
    "        self.origin = Node(nim)\n",
    "        self.origin.children = childrenPopulate(self.origin.state)\n",
    "        self.win_count = 0\n",
    "        playerSet(self.origin, player)\n",
    "        \n",
    "    def possibleWins(self, node):\n",
    "        for child in node.children:\n",
    "            self.possibleWins(child)\n",
    "            \n",
    "        if not node.validTurn() and not node.player:\n",
    "            #print(\"WIN\")\n",
    "            #node.printNode()\n",
    "            #print(\"--- turn end ---\" + \"\\n\")\n",
    "            self.win_count += 1\n",
    "        elif not node.validTurn() and node.player:\n",
    "            #print(\"LOSS\")\n",
    "            #node.printNode()\n",
    "            #print(\"--- turn end ---\" + \"\\n\")\n",
    "            return\n",
    "        else:\n",
    "            return\n",
    "            \n",
    "    def countWins(self): \n",
    "        self.possibleWins(self.origin)\n",
    "        return self.win_count\n",
    "    "
   ]
  },
  {
   "cell_type": "code",
   "execution_count": 67,
   "metadata": {},
   "outputs": [],
   "source": [
    "import copy\n",
    "import math"
   ]
  },
  {
   "cell_type": "code",
   "execution_count": 68,
   "metadata": {},
   "outputs": [],
   "source": [
    "nim = [Stack(3), Stack(3), Stack(3)]"
   ]
  },
  {
   "cell_type": "code",
   "execution_count": 69,
   "metadata": {},
   "outputs": [
    {
     "name": "stdout",
     "output_type": "stream",
     "text": [
      "3\n",
      "3\n",
      "3\n"
     ]
    }
   ],
   "source": [
    "for stack in nim: print(stack.size)"
   ]
  },
  {
   "cell_type": "code",
   "execution_count": 70,
   "metadata": {},
   "outputs": [],
   "source": [
    "nim = [Stack(3), Stack(3), Stack(3)]\n",
    "tree = NimTree(nim, False) "
   ]
  },
  {
   "cell_type": "code",
   "execution_count": 71,
   "metadata": {
    "scrolled": true
   },
   "outputs": [
    {
     "name": "stdout",
     "output_type": "stream",
     "text": [
      "3\n",
      "3\n",
      "3\n",
      "\n",
      "\n"
     ]
    }
   ],
   "source": [
    "#this prints the nim state of the origin node of the tree\n",
    "for stack in tree.origin.state: print(stack.size)#, end = \" \")\n",
    "print(\"\\n\") "
   ]
  },
  {
   "cell_type": "code",
   "execution_count": 72,
   "metadata": {},
   "outputs": [
    {
     "name": "stdout",
     "output_type": "stream",
     "text": [
      "2\n",
      "3\n",
      "3\n",
      "\n",
      "\n",
      "1\n",
      "3\n",
      "3\n",
      "\n",
      "\n",
      "0\n",
      "3\n",
      "3\n",
      "\n",
      "\n",
      "3\n",
      "2\n",
      "3\n",
      "\n",
      "\n",
      "3\n",
      "1\n",
      "3\n",
      "\n",
      "\n",
      "3\n",
      "0\n",
      "3\n",
      "\n",
      "\n",
      "3\n",
      "3\n",
      "2\n",
      "\n",
      "\n",
      "3\n",
      "3\n",
      "1\n",
      "\n",
      "\n",
      "3\n",
      "3\n",
      "0\n",
      "\n",
      "\n"
     ]
    }
   ],
   "source": [
    "#This prints the nim state of all of the children nodes of a node (in this case, origin)\n",
    "for child in tree.origin.children:\n",
    "    for stack in child.state: print(stack.size)#, end = \" \")\n",
    "    print(\"\\n\")"
   ]
  },
  {
   "cell_type": "code",
   "execution_count": 73,
   "metadata": {},
   "outputs": [],
   "source": [
    "#Commented out because this takes 5ever to run\n",
    "#We're getting some repeated nodes...I think this is how it should be though?\n",
    "#count = 0\n",
    "#printAllNodes(tree.origin)\n",
    "\n",
    "#print(count)"
   ]
  },
  {
   "cell_type": "markdown",
   "metadata": {},
   "source": [
    "<h1> MiniMax Tree </h1>"
   ]
  },
  {
   "cell_type": "markdown",
   "metadata": {},
   "source": [
    "<p1> MARCUS TODO: Okay so the idea here is that win for MAX is denoted a 1 and the win for MIN is denoted a 0. Once we have that setup, we need to define some sort of heuristic for game AI to choose the odds of it getting a 1 more. We could probably just use a simple ratio here. Try to import what we have into this code and see what we get. </p1>"
   ]
  },
  {
   "cell_type": "code",
   "execution_count": 74,
   "metadata": {},
   "outputs": [
    {
     "name": "stdout",
     "output_type": "stream",
     "text": [
      "The optimal value is : \n",
      "12\n"
     ]
    }
   ],
   "source": [
    "# https://www.geeksforgeeks.org/minimax-algorithm-in-game-theory-set-1-introduction/\n",
    "# A simple Python3 program to find \n",
    "# maximum score that \n",
    "# maximizing player can get\n",
    "  \n",
    "def minimax (curDepth, nodeIndex, \n",
    "             maxTurn, scores,  \n",
    "             targetDepth): \n",
    "  \n",
    "    # base case : targetDepth reached \n",
    "    if (curDepth == targetDepth):  \n",
    "        return scores[nodeIndex] \n",
    "      \n",
    "    if (maxTurn): \n",
    "        return max(minimax(curDepth + 1, nodeIndex * 2,  \n",
    "                    False, scores, targetDepth),  \n",
    "                   minimax(curDepth + 1, nodeIndex * 2 + 1,  \n",
    "                    False, scores, targetDepth)) \n",
    "      \n",
    "    else: \n",
    "        return min(minimax(curDepth + 1, nodeIndex * 2,  \n",
    "                     True, scores, targetDepth),  \n",
    "                   minimax(curDepth + 1, nodeIndex * 2 + 1,  \n",
    "                     True, scores, targetDepth)) \n",
    "      \n",
    "# Driver code \n",
    "scores = [3, 5, 2, 9, 12, 5, 23, 23] \n",
    "  \n",
    "treeDepth = math.log(len(scores), 2) \n",
    "  \n",
    "print(\"The optimal value is : \")#, end = \"\") \n",
    "print(minimax(0, 0, True, scores, treeDepth)) \n",
    "  \n",
    "# This code is contributed \n",
    "# by rootshadow "
   ]
  },
  {
   "cell_type": "code",
   "execution_count": 75,
   "metadata": {
    "scrolled": false
   },
   "outputs": [
    {
     "name": "stdout",
     "output_type": "stream",
     "text": [
      "Node: \n",
      "0\n",
      "0\n",
      "0\n",
      "\n",
      "\n",
      "Player: \n",
      "PUNY HUMAN\n",
      "\n",
      "Parent: \n",
      "0\n",
      "0\n",
      "1\n",
      "\n",
      "\n",
      "Children: \n",
      "Node: \n",
      "0\n",
      "0\n",
      "1\n",
      "\n",
      "\n",
      "Player: \n",
      "AI\n",
      "\n",
      "Parent: \n",
      "0\n",
      "1\n",
      "1\n",
      "\n",
      "\n",
      "Children: \n",
      "0\n",
      "0\n",
      "0\n",
      "\n",
      "\n",
      "Node: \n",
      "0\n",
      "0\n",
      "0\n",
      "\n",
      "\n",
      "Player: \n",
      "PUNY HUMAN\n",
      "\n",
      "Parent: \n",
      "0\n",
      "1\n",
      "0\n",
      "\n",
      "\n",
      "Children: \n",
      "Node: \n",
      "0\n",
      "1\n",
      "0\n",
      "\n",
      "\n",
      "Player: \n",
      "AI\n",
      "\n",
      "Parent: \n",
      "0\n",
      "1\n",
      "1\n",
      "\n",
      "\n",
      "Children: \n",
      "0\n",
      "0\n",
      "0\n",
      "\n",
      "\n",
      "Node: \n",
      "0\n",
      "1\n",
      "1\n",
      "\n",
      "\n",
      "Player: \n",
      "PUNY HUMAN\n",
      "\n",
      "Children: \n",
      "0\n",
      "0\n",
      "1\n",
      "\n",
      "\n",
      "0\n",
      "1\n",
      "0\n",
      "\n",
      "\n",
      "Node: \n",
      "0\n",
      "0\n",
      "0\n",
      "\n",
      "\n",
      "Player: \n",
      "PUNY HUMAN\n",
      "\n",
      "Parent: \n",
      "0\n",
      "0\n",
      "1\n",
      "\n",
      "\n",
      "Children: \n",
      "Node: \n",
      "0\n",
      "0\n",
      "1\n",
      "\n",
      "\n",
      "Player: \n",
      "AI\n",
      "\n",
      "Parent: \n",
      "1\n",
      "0\n",
      "1\n",
      "\n",
      "\n",
      "Children: \n",
      "0\n",
      "0\n",
      "0\n",
      "\n",
      "\n",
      "Node: \n",
      "0\n",
      "0\n",
      "0\n",
      "\n",
      "\n",
      "Player: \n",
      "PUNY HUMAN\n",
      "\n",
      "Parent: \n",
      "1\n",
      "0\n",
      "0\n",
      "\n",
      "\n",
      "Children: \n",
      "Node: \n",
      "1\n",
      "0\n",
      "0\n",
      "\n",
      "\n",
      "Player: \n",
      "AI\n",
      "\n",
      "Parent: \n",
      "1\n",
      "0\n",
      "1\n",
      "\n",
      "\n",
      "Children: \n",
      "0\n",
      "0\n",
      "0\n",
      "\n",
      "\n",
      "Node: \n",
      "1\n",
      "0\n",
      "1\n",
      "\n",
      "\n",
      "Player: \n",
      "PUNY HUMAN\n",
      "\n",
      "Children: \n",
      "0\n",
      "0\n",
      "1\n",
      "\n",
      "\n",
      "1\n",
      "0\n",
      "0\n",
      "\n",
      "\n",
      "Node: \n",
      "0\n",
      "0\n",
      "0\n",
      "\n",
      "\n",
      "Player: \n",
      "PUNY HUMAN\n",
      "\n",
      "Parent: \n",
      "0\n",
      "1\n",
      "0\n",
      "\n",
      "\n",
      "Children: \n",
      "Node: \n",
      "0\n",
      "1\n",
      "0\n",
      "\n",
      "\n",
      "Player: \n",
      "AI\n",
      "\n",
      "Parent: \n",
      "1\n",
      "1\n",
      "0\n",
      "\n",
      "\n",
      "Children: \n",
      "0\n",
      "0\n",
      "0\n",
      "\n",
      "\n",
      "Node: \n",
      "0\n",
      "0\n",
      "0\n",
      "\n",
      "\n",
      "Player: \n",
      "PUNY HUMAN\n",
      "\n",
      "Parent: \n",
      "1\n",
      "0\n",
      "0\n",
      "\n",
      "\n",
      "Children: \n",
      "Node: \n",
      "1\n",
      "0\n",
      "0\n",
      "\n",
      "\n",
      "Player: \n",
      "AI\n",
      "\n",
      "Parent: \n",
      "1\n",
      "1\n",
      "0\n",
      "\n",
      "\n",
      "Children: \n",
      "0\n",
      "0\n",
      "0\n",
      "\n",
      "\n",
      "Node: \n",
      "1\n",
      "1\n",
      "0\n",
      "\n",
      "\n",
      "Player: \n",
      "PUNY HUMAN\n",
      "\n",
      "Children: \n",
      "0\n",
      "1\n",
      "0\n",
      "\n",
      "\n",
      "1\n",
      "0\n",
      "0\n",
      "\n",
      "\n",
      "Node: \n",
      "1\n",
      "1\n",
      "1\n",
      "\n",
      "\n",
      "Player: \n",
      "AI\n",
      "\n",
      "Children: \n",
      "0\n",
      "1\n",
      "1\n",
      "\n",
      "\n",
      "1\n",
      "0\n",
      "1\n",
      "\n",
      "\n",
      "1\n",
      "1\n",
      "0\n",
      "\n",
      "\n"
     ]
    }
   ],
   "source": [
    "custom_nim = [Stack(1), Stack(1), Stack(1)]\n",
    "custom_tree = NimTree(custom_nim, True)\n",
    "printAllNodes(custom_tree.origin)"
   ]
  },
  {
   "cell_type": "code",
   "execution_count": 76,
   "metadata": {
    "scrolled": true
   },
   "outputs": [
    {
     "name": "stdout",
     "output_type": "stream",
     "text": [
      "6\n"
     ]
    }
   ],
   "source": [
    "print(custom_tree.countWins())"
   ]
  },
  {
   "cell_type": "markdown",
   "metadata": {},
   "source": [
    "<h1> User Input & Test Playing </h1>"
   ]
  },
  {
   "cell_type": "code",
   "execution_count": 77,
   "metadata": {},
   "outputs": [],
   "source": [
    "def AI(node):\n",
    "    node_win_count = 0\n",
    "    next_move = None\n",
    "    node_children = firstDepthChildren(node.state, node.player)\n",
    "    for child in node_children:\n",
    "        #child.printNode()\n",
    "        child_tree = NimTree(child.state, child.player)\n",
    "        child_wins = child_tree.countWins()\n",
    "        if child_wins > node_win_count: #Heuristic based on depth HERE\n",
    "            node_win_count = child_wins\n",
    "            next_move = child\n",
    "    \n",
    "    return node_win_count, next_move\n",
    "    "
   ]
  },
  {
   "cell_type": "code",
   "execution_count": 78,
   "metadata": {},
   "outputs": [
    {
     "name": "stdout",
     "output_type": "stream",
     "text": [
      "AI Wins:  2 \n",
      "\n",
      "Next Move:\n",
      "\n"
     ]
    }
   ],
   "source": [
    "custom_nim = [Stack(1), Stack(1), Stack(1)]\n",
    "custom_nim_node = Node(custom_nim, player=True)\n",
    "AI_wins, AI_next_move = AI(custom_nim_node)\n",
    "print(\"AI Wins: \", AI_wins, \"\\n\\nNext Move:\\n\")"
   ]
  },
  {
   "cell_type": "code",
   "execution_count": 79,
   "metadata": {},
   "outputs": [],
   "source": [
    "def gameLoop(nim, player):\n",
    "    print(\"\\t   GAME START\\nMAY NIMROD HAVE MERCY ON YOUR SOUL\\n----------------------------------\\n\")\n",
    "    current_state = Node(nim)\n",
    "    current_state.player = player\n",
    "    current_state.printNode()\n",
    "    print(\"----------------------------------\\n\")\n",
    "    \n",
    "    while(True):\n",
    "        if(current_state.player): #AI's Turn\n",
    "            AI_wins, AI_next_move = AI(current_state)\n",
    "            if(AI_wins == 0):\n",
    "                print(\"You Won! Somehow...\")\n",
    "                break\n",
    "                \n",
    "            if(not AI_next_move.validTurn()):\n",
    "                current_state = Node([Stack(0), Stack(0), Stack(0)])\n",
    "                print(\"AI Moves To\")\n",
    "                current_state.printNode()\n",
    "                print(\"THE MIGHTY NIMROD BESTED YOU AGAIN\")\n",
    "                break\n",
    "    \n",
    "            current_state = AI_next_move\n",
    "            \n",
    "            print(\"AI Moves To:\")\n",
    "            current_state.printNode()\n",
    "            print(\"----------------END TURN------------------\\n\")\n",
    "            \n",
    "        else: #Your turn!\n",
    "            print(\"It's Your Turn\")\n",
    "            for stack in current_state.state:\n",
    "                print(\"Stack: \", current_state.state.index(stack), \": \", stack.size)\n",
    "            \n",
    "            stack_choice = int(input(\"Stack: \"))\n",
    "            remove_amount = int(input(\"Stone #: \"))\n",
    "            while(stack_choice > len(current_state.state)-1):\n",
    "                stack_choice = int(input(\"Pick Valid Stack: \"))\n",
    "                remove_amount = int(input(\"Stone #: \"))\n",
    "            while(not current_state.state[stack_choice].removeStone(remove_amount)):\n",
    "                print(\"INVALID CHOICE! THIS ANGERS NIMROD!\")\n",
    "                stack_choice = int(input(\"Pick Valid Stack: \"))\n",
    "                remove_amount = int(input(\"Stone #: \"))\n",
    "            \n",
    "            print(\"\\nYou Move To:\")\n",
    "            current_state.player = not current_state.player\n",
    "            current_state.printNode()\n",
    "            print(\"----------------END TURN------------------\\n\")"
   ]
  },
  {
   "cell_type": "code",
   "execution_count": 80,
   "metadata": {},
   "outputs": [
    {
     "name": "stdout",
     "output_type": "stream",
     "text": [
      "\t   GAME START\n",
      "MAY NIMROD HAVE MERCY ON YOUR SOUL\n",
      "----------------------------------\n",
      "\n",
      "Node: \n",
      "3\n",
      "3\n",
      "3\n",
      "\n",
      "\n",
      "Player: \n",
      "PUNY HUMAN\n",
      "\n",
      "----------------------------------\n",
      "\n",
      "It's Your Turn\n",
      "Stack:  0 :  3\n",
      "Stack:  1 :  3\n",
      "Stack:  2 :  3\n"
     ]
    },
    {
     "ename": "KeyboardInterrupt",
     "evalue": "",
     "output_type": "error",
     "traceback": [
      "\u001b[0;31m---------------------------------------------------------------------------\u001b[0m",
      "\u001b[0;31mKeyboardInterrupt\u001b[0m                         Traceback (most recent call last)",
      "\u001b[0;32m/Library/Frameworks/Python.framework/Versions/3.7/lib/python3.7/site-packages/ipykernel/kernelbase.py\u001b[0m in \u001b[0;36m_input_request\u001b[0;34m(self, prompt, ident, parent, password)\u001b[0m\n\u001b[1;32m    884\u001b[0m             \u001b[0;32mtry\u001b[0m\u001b[0;34m:\u001b[0m\u001b[0;34m\u001b[0m\u001b[0m\n\u001b[0;32m--> 885\u001b[0;31m                 \u001b[0mident\u001b[0m\u001b[0;34m,\u001b[0m \u001b[0mreply\u001b[0m \u001b[0;34m=\u001b[0m \u001b[0mself\u001b[0m\u001b[0;34m.\u001b[0m\u001b[0msession\u001b[0m\u001b[0;34m.\u001b[0m\u001b[0mrecv\u001b[0m\u001b[0;34m(\u001b[0m\u001b[0mself\u001b[0m\u001b[0;34m.\u001b[0m\u001b[0mstdin_socket\u001b[0m\u001b[0;34m,\u001b[0m \u001b[0;36m0\u001b[0m\u001b[0;34m)\u001b[0m\u001b[0;34m\u001b[0m\u001b[0m\n\u001b[0m\u001b[1;32m    886\u001b[0m             \u001b[0;32mexcept\u001b[0m \u001b[0mException\u001b[0m\u001b[0;34m:\u001b[0m\u001b[0;34m\u001b[0m\u001b[0m\n",
      "\u001b[0;32m/Library/Frameworks/Python.framework/Versions/3.7/lib/python3.7/site-packages/jupyter_client/session.py\u001b[0m in \u001b[0;36mrecv\u001b[0;34m(self, socket, mode, content, copy)\u001b[0m\n\u001b[1;32m    802\u001b[0m         \u001b[0;32mtry\u001b[0m\u001b[0;34m:\u001b[0m\u001b[0;34m\u001b[0m\u001b[0m\n\u001b[0;32m--> 803\u001b[0;31m             \u001b[0mmsg_list\u001b[0m \u001b[0;34m=\u001b[0m \u001b[0msocket\u001b[0m\u001b[0;34m.\u001b[0m\u001b[0mrecv_multipart\u001b[0m\u001b[0;34m(\u001b[0m\u001b[0mmode\u001b[0m\u001b[0;34m,\u001b[0m \u001b[0mcopy\u001b[0m\u001b[0;34m=\u001b[0m\u001b[0mcopy\u001b[0m\u001b[0;34m)\u001b[0m\u001b[0;34m\u001b[0m\u001b[0m\n\u001b[0m\u001b[1;32m    804\u001b[0m         \u001b[0;32mexcept\u001b[0m \u001b[0mzmq\u001b[0m\u001b[0;34m.\u001b[0m\u001b[0mZMQError\u001b[0m \u001b[0;32mas\u001b[0m \u001b[0me\u001b[0m\u001b[0;34m:\u001b[0m\u001b[0;34m\u001b[0m\u001b[0m\n",
      "\u001b[0;32m/Library/Frameworks/Python.framework/Versions/3.7/lib/python3.7/site-packages/zmq/sugar/socket.py\u001b[0m in \u001b[0;36mrecv_multipart\u001b[0;34m(self, flags, copy, track)\u001b[0m\n\u001b[1;32m    469\u001b[0m         \"\"\"\n\u001b[0;32m--> 470\u001b[0;31m         \u001b[0mparts\u001b[0m \u001b[0;34m=\u001b[0m \u001b[0;34m[\u001b[0m\u001b[0mself\u001b[0m\u001b[0;34m.\u001b[0m\u001b[0mrecv\u001b[0m\u001b[0;34m(\u001b[0m\u001b[0mflags\u001b[0m\u001b[0;34m,\u001b[0m \u001b[0mcopy\u001b[0m\u001b[0;34m=\u001b[0m\u001b[0mcopy\u001b[0m\u001b[0;34m,\u001b[0m \u001b[0mtrack\u001b[0m\u001b[0;34m=\u001b[0m\u001b[0mtrack\u001b[0m\u001b[0;34m)\u001b[0m\u001b[0;34m]\u001b[0m\u001b[0;34m\u001b[0m\u001b[0m\n\u001b[0m\u001b[1;32m    471\u001b[0m         \u001b[0;31m# have first part already, only loop while more to receive\u001b[0m\u001b[0;34m\u001b[0m\u001b[0;34m\u001b[0m\u001b[0m\n",
      "\u001b[0;32mzmq/backend/cython/socket.pyx\u001b[0m in \u001b[0;36mzmq.backend.cython.socket.Socket.recv\u001b[0;34m()\u001b[0m\n",
      "\u001b[0;32mzmq/backend/cython/socket.pyx\u001b[0m in \u001b[0;36mzmq.backend.cython.socket.Socket.recv\u001b[0;34m()\u001b[0m\n",
      "\u001b[0;32mzmq/backend/cython/socket.pyx\u001b[0m in \u001b[0;36mzmq.backend.cython.socket._recv_copy\u001b[0;34m()\u001b[0m\n",
      "\u001b[0;32m/Library/Frameworks/Python.framework/Versions/3.7/lib/python3.7/site-packages/zmq/backend/cython/checkrc.pxd\u001b[0m in \u001b[0;36mzmq.backend.cython.checkrc._check_rc\u001b[0;34m()\u001b[0m\n",
      "\u001b[0;31mKeyboardInterrupt\u001b[0m: ",
      "\nDuring handling of the above exception, another exception occurred:\n",
      "\u001b[0;31mKeyboardInterrupt\u001b[0m                         Traceback (most recent call last)",
      "\u001b[0;32m<ipython-input-80-57fcdcd8828e>\u001b[0m in \u001b[0;36m<module>\u001b[0;34m\u001b[0m\n\u001b[1;32m      1\u001b[0m \u001b[0mtest_nim\u001b[0m \u001b[0;34m=\u001b[0m \u001b[0;34m[\u001b[0m\u001b[0mStack\u001b[0m\u001b[0;34m(\u001b[0m\u001b[0;36m3\u001b[0m\u001b[0;34m)\u001b[0m\u001b[0;34m,\u001b[0m \u001b[0mStack\u001b[0m\u001b[0;34m(\u001b[0m\u001b[0;36m3\u001b[0m\u001b[0;34m)\u001b[0m\u001b[0;34m,\u001b[0m \u001b[0mStack\u001b[0m\u001b[0;34m(\u001b[0m\u001b[0;36m3\u001b[0m\u001b[0;34m)\u001b[0m\u001b[0;34m]\u001b[0m \u001b[0;31m#ERROR: AI will skip it's \"losing\" turn as the algorithm returns 0.\u001b[0m\u001b[0;34m\u001b[0m\u001b[0m\n\u001b[0;32m----> 2\u001b[0;31m \u001b[0mgameLoop\u001b[0m\u001b[0;34m(\u001b[0m\u001b[0mtest_nim\u001b[0m\u001b[0;34m,\u001b[0m \u001b[0;32mFalse\u001b[0m\u001b[0;34m)\u001b[0m\u001b[0;34m\u001b[0m\u001b[0m\n\u001b[0m",
      "\u001b[0;32m<ipython-input-79-b465ed59b0c7>\u001b[0m in \u001b[0;36mgameLoop\u001b[0;34m(nim, player)\u001b[0m\n\u001b[1;32m     31\u001b[0m                 \u001b[0mprint\u001b[0m\u001b[0;34m(\u001b[0m\u001b[0;34m\"Stack: \"\u001b[0m\u001b[0;34m,\u001b[0m \u001b[0mcurrent_state\u001b[0m\u001b[0;34m.\u001b[0m\u001b[0mstate\u001b[0m\u001b[0;34m.\u001b[0m\u001b[0mindex\u001b[0m\u001b[0;34m(\u001b[0m\u001b[0mstack\u001b[0m\u001b[0;34m)\u001b[0m\u001b[0;34m,\u001b[0m \u001b[0;34m\": \"\u001b[0m\u001b[0;34m,\u001b[0m \u001b[0mstack\u001b[0m\u001b[0;34m.\u001b[0m\u001b[0msize\u001b[0m\u001b[0;34m)\u001b[0m\u001b[0;34m\u001b[0m\u001b[0m\n\u001b[1;32m     32\u001b[0m \u001b[0;34m\u001b[0m\u001b[0m\n\u001b[0;32m---> 33\u001b[0;31m             \u001b[0mstack_choice\u001b[0m \u001b[0;34m=\u001b[0m \u001b[0mint\u001b[0m\u001b[0;34m(\u001b[0m\u001b[0minput\u001b[0m\u001b[0;34m(\u001b[0m\u001b[0;34m\"Stack: \"\u001b[0m\u001b[0;34m)\u001b[0m\u001b[0;34m)\u001b[0m\u001b[0;34m\u001b[0m\u001b[0m\n\u001b[0m\u001b[1;32m     34\u001b[0m             \u001b[0mremove_amount\u001b[0m \u001b[0;34m=\u001b[0m \u001b[0mint\u001b[0m\u001b[0;34m(\u001b[0m\u001b[0minput\u001b[0m\u001b[0;34m(\u001b[0m\u001b[0;34m\"Stone #: \"\u001b[0m\u001b[0;34m)\u001b[0m\u001b[0;34m)\u001b[0m\u001b[0;34m\u001b[0m\u001b[0m\n\u001b[1;32m     35\u001b[0m             \u001b[0;32mwhile\u001b[0m\u001b[0;34m(\u001b[0m\u001b[0mstack_choice\u001b[0m \u001b[0;34m>\u001b[0m \u001b[0mlen\u001b[0m\u001b[0;34m(\u001b[0m\u001b[0mcurrent_state\u001b[0m\u001b[0;34m.\u001b[0m\u001b[0mstate\u001b[0m\u001b[0;34m)\u001b[0m\u001b[0;34m-\u001b[0m\u001b[0;36m1\u001b[0m\u001b[0;34m)\u001b[0m\u001b[0;34m:\u001b[0m\u001b[0;34m\u001b[0m\u001b[0m\n",
      "\u001b[0;32m/Library/Frameworks/Python.framework/Versions/3.7/lib/python3.7/site-packages/ipykernel/kernelbase.py\u001b[0m in \u001b[0;36mraw_input\u001b[0;34m(self, prompt)\u001b[0m\n\u001b[1;32m    858\u001b[0m             \u001b[0mself\u001b[0m\u001b[0;34m.\u001b[0m\u001b[0m_parent_ident\u001b[0m\u001b[0;34m,\u001b[0m\u001b[0;34m\u001b[0m\u001b[0m\n\u001b[1;32m    859\u001b[0m             \u001b[0mself\u001b[0m\u001b[0;34m.\u001b[0m\u001b[0m_parent_header\u001b[0m\u001b[0;34m,\u001b[0m\u001b[0;34m\u001b[0m\u001b[0m\n\u001b[0;32m--> 860\u001b[0;31m             \u001b[0mpassword\u001b[0m\u001b[0;34m=\u001b[0m\u001b[0;32mFalse\u001b[0m\u001b[0;34m,\u001b[0m\u001b[0;34m\u001b[0m\u001b[0m\n\u001b[0m\u001b[1;32m    861\u001b[0m         )\n\u001b[1;32m    862\u001b[0m \u001b[0;34m\u001b[0m\u001b[0m\n",
      "\u001b[0;32m/Library/Frameworks/Python.framework/Versions/3.7/lib/python3.7/site-packages/ipykernel/kernelbase.py\u001b[0m in \u001b[0;36m_input_request\u001b[0;34m(self, prompt, ident, parent, password)\u001b[0m\n\u001b[1;32m    888\u001b[0m             \u001b[0;32mexcept\u001b[0m \u001b[0mKeyboardInterrupt\u001b[0m\u001b[0;34m:\u001b[0m\u001b[0;34m\u001b[0m\u001b[0m\n\u001b[1;32m    889\u001b[0m                 \u001b[0;31m# re-raise KeyboardInterrupt, to truncate traceback\u001b[0m\u001b[0;34m\u001b[0m\u001b[0;34m\u001b[0m\u001b[0m\n\u001b[0;32m--> 890\u001b[0;31m                 \u001b[0;32mraise\u001b[0m \u001b[0mKeyboardInterrupt\u001b[0m\u001b[0;34m\u001b[0m\u001b[0m\n\u001b[0m\u001b[1;32m    891\u001b[0m             \u001b[0;32melse\u001b[0m\u001b[0;34m:\u001b[0m\u001b[0;34m\u001b[0m\u001b[0m\n\u001b[1;32m    892\u001b[0m                 \u001b[0;32mbreak\u001b[0m\u001b[0;34m\u001b[0m\u001b[0m\n",
      "\u001b[0;31mKeyboardInterrupt\u001b[0m: "
     ]
    }
   ],
   "source": [
    "test_nim = [Stack(3), Stack(3), Stack(3)] #ERROR: AI will skip it's \"losing\" turn as the algorithm returns 0.\n",
    "gameLoop(test_nim, False)"
   ]
  },
  {
   "cell_type": "markdown",
   "metadata": {},
   "source": [
    "<h1> Heuristic Creation</h1>"
   ]
  },
  {
   "cell_type": "raw",
   "metadata": {},
   "source": [
    "All You Marcus! See if you can find a better heuristic than simply \"generate the entire tree\""
   ]
  },
  {
   "cell_type": "code",
   "execution_count": null,
   "metadata": {},
   "outputs": [],
   "source": []
  }
 ],
 "metadata": {
  "kernelspec": {
   "display_name": "Python 3",
   "language": "python",
   "name": "python3"
  },
  "language_info": {
   "codemirror_mode": {
    "name": "ipython",
    "version": 3
   },
   "file_extension": ".py",
   "mimetype": "text/x-python",
   "name": "python",
   "nbconvert_exporter": "python",
   "pygments_lexer": "ipython3",
   "version": "3.7.0"
  }
 },
 "nbformat": 4,
 "nbformat_minor": 2
}
