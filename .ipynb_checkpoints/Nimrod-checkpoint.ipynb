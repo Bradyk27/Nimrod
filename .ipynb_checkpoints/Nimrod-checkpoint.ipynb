{
 "cells": [
  {
   "cell_type": "markdown",
   "metadata": {},
   "source": [
    "<h2> Brady Kruse & Marcus Jordan </h2>"
   ]
  },
  {
   "cell_type": "markdown",
   "metadata": {},
   "source": [
    "<h1> Nim Rules (for reference) </h1>"
   ]
  },
  {
   "cell_type": "raw",
   "metadata": {},
   "source": [
    "The basic Nim begins with two players and several heaps, each containing several objects. Occasionally, heaps are also called piles, and the objects are called stones.\n",
    "\n",
    "Each player, in turn, must take at least one stone, but they may take more than one stone as long as they all come from the same pile. It's allowed to make a pile empty, effectively removing the pile out of the game. When a player is unable to move, the game ends. Naturally, as long as there is a stone, either player can take that stone, and thus can move. So the ending condition can be rephrased, where the game ends if there is no stone left.\n",
    "\n",
    "In normal Nim, the loser is the player unable to move. It is called normal condition by convention from combinatorial game theory, where a normal game gives the win to the last player making a move. In misère Nim, the player unable to move wins instead; this is equivalent to the player taking the last stone losing."
   ]
  },
  {
   "cell_type": "markdown",
   "metadata": {},
   "source": [
    "<h2> To Dos </h2>"
   ]
  },
  {
   "cell_type": "markdown",
   "metadata": {},
   "source": [
    "1) Running Minimax, setting up scores, etc.\n",
    "2) Put some gui in!"
   ]
  },
  {
   "cell_type": "markdown",
   "metadata": {},
   "source": [
    "<h1> Nim Rules & Tree Setup </h1>"
   ]
  },
  {
   "cell_type": "markdown",
   "metadata": {},
   "source": [
    "#Nim is a game w/ a collection of an arbitrary number of stacks & an arbitrary number of stones per stack\n",
    "#Players take turns removing stones (they can remove as many as they want / can (no negative stones) or as a few as they want / can but HAVE to remove 1)\n",
    "#So what I've done is thus:\n",
    "#The Stack class acts as a stack\n",
    "#nim is a starting state of the game, represented by an array of stacks.\n",
    "#Node is simply a node containing a current state of nim (an array of stacks) that also links to its children and has its player status\n",
    "#NimTree is a class containing, you guessed it, a tree of Nim Nodes. "
   ]
  },
  {
   "cell_type": "code",
   "execution_count": 103,
   "metadata": {},
   "outputs": [],
   "source": [
    "def ChildrenPopulate(nim):\n",
    "    children = []\n",
    "    stack_index = 0\n",
    "    for each in nim:\n",
    "        for i in range(1, each.size+1):\n",
    "            temp_nim = copy.deepcopy(nim)\n",
    "            temp_nim[stack_index].removeStone(i)\n",
    "            children.append(Node(temp_nim, ChildrenPopulate(temp_nim)))\n",
    "        stack_index += 1\n",
    "    return children"
   ]
  },
  {
   "cell_type": "code",
   "execution_count": 104,
   "metadata": {},
   "outputs": [],
   "source": [
    "def PlayerSet(node, role):\n",
    "    node.player = role\n",
    "    for child in node.children:\n",
    "        PlayerSet(child, not node.player)"
   ]
  },
  {
   "cell_type": "code",
   "execution_count": 105,
   "metadata": {},
   "outputs": [],
   "source": [
    "count = 0\n",
    "def PrintAllNodes(node):\n",
    "    global count\n",
    "    children = node.children\n",
    "    for child in children:\n",
    "        PrintAllNodes(child)\n",
    "    \n",
    "    node.PrintNode()\n",
    "    count += 1"
   ]
  },
  {
   "cell_type": "code",
   "execution_count": 106,
   "metadata": {},
   "outputs": [],
   "source": [
    "class Stack:\n",
    "    def __init__(self, size):\n",
    "        self.size = size\n",
    "    \n",
    "    def removeStone(self, amount):\n",
    "        if amount <= self.size and amount != 0:\n",
    "            self.size -= amount\n",
    "            return True #Indicates a valid turn\n",
    "        \n",
    "        return False #Indicates an invalid turn\n",
    "    \n",
    "    #Check Stone is different than remove stone as it doesn't fix the size as we are just checking it\n",
    "    def checkStone(self, amount):\n",
    "        if amount <= self.size and amount != 0:\n",
    "            return True #Indicates a valid turn\n",
    "        \n",
    "        return False #Indicates an invalid turn"
   ]
  },
  {
   "cell_type": "code",
   "execution_count": 107,
   "metadata": {},
   "outputs": [],
   "source": [
    "class Node: #For ease, TRUE is the MAX player and FALSE is the MIN player\n",
    "    def __init__(self, state, children=None, parent=None, player=None): #Might need parent...but at the same time, do we even care about the parent? Would we use it?\n",
    "        self.state = state\n",
    "        self.parent = parent\n",
    "        self.children = children\n",
    "        self.player = None\n",
    "        if children != None:\n",
    "            for child in self.children:\n",
    "                child.parent = self\n",
    "    \n",
    "    def PrintNode(self): #Have no idea why, on Ubuntu end = \"\" throws a syntax error? Something to do w/ how printing is handled\n",
    "        print(\"Node: \")\n",
    "        for stack in self.state: print(stack.size)#, end=\" \")\n",
    "        print(\"\\n\")\n",
    "    \n",
    "        print(\"Player: \")#, end =\"\")\n",
    "        if (self.player):\n",
    "            print(\"MAX\\n\")\n",
    "        else:\n",
    "            print(\"MIN\\n\")\n",
    "\n",
    "        if(self.parent != None):\n",
    "            print(\"Parent: \")\n",
    "            for stack in self.parent.state: print(stack.size)#, end = \" \")\n",
    "            print(\"\\n\")\n",
    "\n",
    "        if(self.children != []):\n",
    "            print(\"Children: \")\n",
    "            for child in self.children:\n",
    "                for stack in child.state: print(stack.size)#, end = \" \")\n",
    "                print(\"\\n\")\n",
    "        print(\"------------------\")\n",
    "        "
   ]
  },
  {
   "cell_type": "code",
   "execution_count": 108,
   "metadata": {},
   "outputs": [],
   "source": [
    "class NimTree:\n",
    "    def __init__(self, nim):\n",
    "        self.nim = nim\n",
    "        self.origin = Node(nim)\n",
    "        self.origin.children = ChildrenPopulate(self.origin.state)\n",
    "        self.win_count = 0\n",
    "        self.loss_count = 0\n",
    "        PlayerSet(self.origin, True)\n",
    "        \n",
    "    def possible_wins(self, node):\n",
    "        for child in node.children:\n",
    "            self.win_count += self.possible_wins(child)\n",
    "    \n",
    "        for stack in node.state:\n",
    "            if not stack.checkStone(1) and not node.player:\n",
    "                print(\"WIN\")\n",
    "                print(self.origin.children.state.size)\n",
    "                print(stack.checkStone(1))\n",
    "                print(node.player)\n",
    "                print(\"--- turn end ---\" + \"\\n\")\n",
    "                return 1 \n",
    "            elif stack.checkStone(1) and node.player:\n",
    "                print(\"LOSS\")\n",
    "                print(self.origin.children.state.size)\n",
    "                print(stack.checkStone(1))\n",
    "                print(node.player)\n",
    "                print(\"--- turn end ---\" + \"\\n\")\n",
    "                self.loss_count += 1\n",
    "                return 0\n",
    "            else:\n",
    "                print(\"PASS\")\n",
    "                print(self.origin.children.state.size)\n",
    "                print(stack.checkStone(1))\n",
    "                print(node.player)\n",
    "                print(\"--- turn end ---\" + \"\\n\")\n",
    "                return 0\n",
    "            \n",
    "    def count_wins(self):\n",
    "        self.win_count = 0 \n",
    "        self.loss_count = 0\n",
    "        self.possible_wins(self.origin)\n",
    "        return self.win_count\n",
    "    "
   ]
  },
  {
   "cell_type": "code",
   "execution_count": 109,
   "metadata": {},
   "outputs": [],
   "source": [
    "import copy\n",
    "import math"
   ]
  },
  {
   "cell_type": "code",
   "execution_count": 110,
   "metadata": {},
   "outputs": [],
   "source": [
    "nim = [Stack(3), Stack(3), Stack(3)]"
   ]
  },
  {
   "cell_type": "code",
   "execution_count": 111,
   "metadata": {},
   "outputs": [
    {
     "name": "stdout",
     "output_type": "stream",
     "text": [
      "3\n",
      "3\n",
      "3\n"
     ]
    }
   ],
   "source": [
    "for stack in nim: print(stack.size)"
   ]
  },
  {
   "cell_type": "code",
   "execution_count": 112,
   "metadata": {},
   "outputs": [],
   "source": [
    "nim = [Stack(3), Stack(3), Stack(3)]\n",
    "tree = NimTree(nim) "
   ]
  },
  {
   "cell_type": "code",
   "execution_count": 113,
   "metadata": {
    "scrolled": true
   },
   "outputs": [
    {
     "name": "stdout",
     "output_type": "stream",
     "text": [
      "3\n",
      "3\n",
      "3\n",
      "\n",
      "\n"
     ]
    }
   ],
   "source": [
    "#this prints the nim state of the origin node of the tree\n",
    "for stack in tree.origin.state: print(stack.size)#, end = \" \")\n",
    "print(\"\\n\") "
   ]
  },
  {
   "cell_type": "code",
   "execution_count": 114,
   "metadata": {},
   "outputs": [
    {
     "name": "stdout",
     "output_type": "stream",
     "text": [
      "2\n",
      "3\n",
      "3\n",
      "\n",
      "\n",
      "1\n",
      "3\n",
      "3\n",
      "\n",
      "\n",
      "0\n",
      "3\n",
      "3\n",
      "\n",
      "\n",
      "3\n",
      "2\n",
      "3\n",
      "\n",
      "\n",
      "3\n",
      "1\n",
      "3\n",
      "\n",
      "\n",
      "3\n",
      "0\n",
      "3\n",
      "\n",
      "\n",
      "3\n",
      "3\n",
      "2\n",
      "\n",
      "\n",
      "3\n",
      "3\n",
      "1\n",
      "\n",
      "\n",
      "3\n",
      "3\n",
      "0\n",
      "\n",
      "\n"
     ]
    }
   ],
   "source": [
    "#This prints the nim state of all of the children nodes of a node (in this case, origin)\n",
    "for child in tree.origin.children:\n",
    "    for stack in child.state: print(stack.size)#, end = \" \")\n",
    "    print(\"\\n\")"
   ]
  },
  {
   "cell_type": "code",
   "execution_count": 115,
   "metadata": {},
   "outputs": [],
   "source": [
    "#We're getting some repeated nodes...I think this is how it should be though?\n",
    "#count = 0\n",
    "#PrintAllNodes(tree.origin)\n",
    "\n",
    "#print(count)"
   ]
  },
  {
   "cell_type": "markdown",
   "metadata": {},
   "source": [
    "<h1> MiniMax Tree </h1>"
   ]
  },
  {
   "cell_type": "markdown",
   "metadata": {},
   "source": [
    "<p1> MARCUS TODO: Okay so the idea here is that win for MAX is denoted a 1 and the win for MIN is denoted a 0. Once we have that setup, we need to define some sort of heuristic for game AI to choose the odds of it getting a 1 more. We could probably just use a simple ratio here. Try to import what we have into this code and see what we get. </p1>"
   ]
  },
  {
   "cell_type": "code",
   "execution_count": 116,
   "metadata": {},
   "outputs": [
    {
     "name": "stdout",
     "output_type": "stream",
     "text": [
      "The optimal value is : \n",
      "12\n"
     ]
    }
   ],
   "source": [
    "# https://www.geeksforgeeks.org/minimax-algorithm-in-game-theory-set-1-introduction/\n",
    "# A simple Python3 program to find \n",
    "# maximum score that \n",
    "# maximizing player can get\n",
    "  \n",
    "def minimax (curDepth, nodeIndex, \n",
    "             maxTurn, scores,  \n",
    "             targetDepth): \n",
    "  \n",
    "    # base case : targetDepth reached \n",
    "    if (curDepth == targetDepth):  \n",
    "        return scores[nodeIndex] \n",
    "      \n",
    "    if (maxTurn): \n",
    "        return max(minimax(curDepth + 1, nodeIndex * 2,  \n",
    "                    False, scores, targetDepth),  \n",
    "                   minimax(curDepth + 1, nodeIndex * 2 + 1,  \n",
    "                    False, scores, targetDepth)) \n",
    "      \n",
    "    else: \n",
    "        return min(minimax(curDepth + 1, nodeIndex * 2,  \n",
    "                     True, scores, targetDepth),  \n",
    "                   minimax(curDepth + 1, nodeIndex * 2 + 1,  \n",
    "                     True, scores, targetDepth)) \n",
    "      \n",
    "# Driver code \n",
    "scores = [3, 5, 2, 9, 12, 5, 23, 23] \n",
    "  \n",
    "treeDepth = math.log(len(scores), 2) \n",
    "  \n",
    "print(\"The optimal value is : \")#, end = \"\") \n",
    "print(minimax(0, 0, True, scores, treeDepth)) \n",
    "  \n",
    "# This code is contributed \n",
    "# by rootshadow "
   ]
  },
  {
   "cell_type": "code",
   "execution_count": 117,
   "metadata": {},
   "outputs": [
    {
     "data": {
      "text/plain": [
       "'\\ndef count_wins(node, count):\\n    children = node.children\\n    for child in children:\\n        count = count + count_wins(child, count)\\n    \\n    for stack in node.state:\\n        if not stack.checkStone(1) and not node.player:\\n            print(stack.checkStone(1))\\n            print(node.player)\\n            print(\"--- turn end ---\")\\n            return 1 \\n        else:\\n            print(stack.checkStone(1))\\n            print(node.player)\\n            print(\"--- turn end ---\")\\n            return 0       \\n '"
      ]
     },
     "execution_count": 117,
     "metadata": {},
     "output_type": "execute_result"
    }
   ],
   "source": [
    "#I think we can create our own algorithm, kinda an offshoot of minimax. The maximizing player will always go whatever route has the MOST possible wins for itself by counting LOSSES for min.\n",
    "'''\n",
    "def count_wins(node, count):\n",
    "    children = node.children\n",
    "    for child in children:\n",
    "        count = count + count_wins(child, count)\n",
    "    \n",
    "    for stack in node.state:\n",
    "        if not stack.checkStone(1) and not node.player:\n",
    "            print(stack.checkStone(1))\n",
    "            print(node.player)\n",
    "            print(\"--- turn end ---\")\n",
    "            return 1 \n",
    "        else:\n",
    "            print(stack.checkStone(1))\n",
    "            print(node.player)\n",
    "            print(\"--- turn end ---\")\n",
    "            return 0       \n",
    " '''       "
   ]
  },
  {
   "cell_type": "code",
   "execution_count": 118,
   "metadata": {
    "scrolled": true
   },
   "outputs": [
    {
     "name": "stdout",
     "output_type": "stream",
     "text": [
      "Node: \n",
      "0\n",
      "0\n",
      "0\n",
      "\n",
      "\n",
      "Player: \n",
      "MAX\n",
      "\n",
      "Parent: \n",
      "0\n",
      "1\n",
      "0\n",
      "\n",
      "\n",
      "------------------\n",
      "Node: \n",
      "0\n",
      "1\n",
      "0\n",
      "\n",
      "\n",
      "Player: \n",
      "MIN\n",
      "\n",
      "Children: \n",
      "0\n",
      "0\n",
      "0\n",
      "\n",
      "\n",
      "------------------\n",
      "Node: \n",
      "0\n",
      "0\n",
      "0\n",
      "\n",
      "\n",
      "Player: \n",
      "MAX\n",
      "\n",
      "Parent: \n",
      "1\n",
      "0\n",
      "0\n",
      "\n",
      "\n",
      "------------------\n",
      "Node: \n",
      "1\n",
      "0\n",
      "0\n",
      "\n",
      "\n",
      "Player: \n",
      "MIN\n",
      "\n",
      "Children: \n",
      "0\n",
      "0\n",
      "0\n",
      "\n",
      "\n",
      "------------------\n",
      "Node: \n",
      "1\n",
      "1\n",
      "0\n",
      "\n",
      "\n",
      "Player: \n",
      "MAX\n",
      "\n",
      "Children: \n",
      "0\n",
      "1\n",
      "0\n",
      "\n",
      "\n",
      "1\n",
      "0\n",
      "0\n",
      "\n",
      "\n",
      "------------------\n",
      "1\n",
      "1\n",
      "0\n",
      "\n",
      "--- --- --- --- ---\n",
      "\n",
      "The number of wins: \n",
      "PASS\n"
     ]
    },
    {
     "ename": "AttributeError",
     "evalue": "'list' object has no attribute 'state'",
     "output_type": "error",
     "traceback": [
      "\u001b[1;31m---------------------------------------------------------------------------\u001b[0m",
      "\u001b[1;31mAttributeError\u001b[0m                            Traceback (most recent call last)",
      "\u001b[1;32m<ipython-input-118-d52d1665934e>\u001b[0m in \u001b[0;36m<module>\u001b[1;34m\u001b[0m\n\u001b[0;32m      8\u001b[0m \u001b[1;33m\u001b[0m\u001b[0m\n\u001b[0;32m      9\u001b[0m \u001b[0mprint\u001b[0m\u001b[1;33m(\u001b[0m\u001b[1;34m\"The number of wins: \"\u001b[0m\u001b[1;33m)\u001b[0m\u001b[1;31m#, end = \"\")\u001b[0m\u001b[1;33m\u001b[0m\u001b[1;33m\u001b[0m\u001b[0m\n\u001b[1;32m---> 10\u001b[1;33m \u001b[0mprint\u001b[0m\u001b[1;33m(\u001b[0m\u001b[0mcustom_tree\u001b[0m\u001b[1;33m.\u001b[0m\u001b[0mcount_wins\u001b[0m\u001b[1;33m(\u001b[0m\u001b[1;33m)\u001b[0m\u001b[1;33m)\u001b[0m\u001b[1;33m\u001b[0m\u001b[1;33m\u001b[0m\u001b[0m\n\u001b[0m\u001b[0;32m     11\u001b[0m \u001b[0mprint\u001b[0m\u001b[1;33m(\u001b[0m\u001b[0mcustom_tree\u001b[0m\u001b[1;33m.\u001b[0m\u001b[0mloss_count\u001b[0m\u001b[1;33m)\u001b[0m\u001b[1;33m\u001b[0m\u001b[1;33m\u001b[0m\u001b[0m\n\u001b[0;32m     12\u001b[0m \u001b[1;33m\u001b[0m\u001b[0m\n",
      "\u001b[1;32m<ipython-input-108-e6c2d06b9526>\u001b[0m in \u001b[0;36mcount_wins\u001b[1;34m(self)\u001b[0m\n\u001b[0;32m     39\u001b[0m         \u001b[0mself\u001b[0m\u001b[1;33m.\u001b[0m\u001b[0mwin_count\u001b[0m \u001b[1;33m=\u001b[0m \u001b[1;36m0\u001b[0m\u001b[1;33m\u001b[0m\u001b[1;33m\u001b[0m\u001b[0m\n\u001b[0;32m     40\u001b[0m         \u001b[0mself\u001b[0m\u001b[1;33m.\u001b[0m\u001b[0mloss_count\u001b[0m \u001b[1;33m=\u001b[0m \u001b[1;36m0\u001b[0m\u001b[1;33m\u001b[0m\u001b[1;33m\u001b[0m\u001b[0m\n\u001b[1;32m---> 41\u001b[1;33m         \u001b[0mself\u001b[0m\u001b[1;33m.\u001b[0m\u001b[0mpossible_wins\u001b[0m\u001b[1;33m(\u001b[0m\u001b[0mself\u001b[0m\u001b[1;33m.\u001b[0m\u001b[0morigin\u001b[0m\u001b[1;33m)\u001b[0m\u001b[1;33m\u001b[0m\u001b[1;33m\u001b[0m\u001b[0m\n\u001b[0m\u001b[0;32m     42\u001b[0m         \u001b[1;32mreturn\u001b[0m \u001b[0mself\u001b[0m\u001b[1;33m.\u001b[0m\u001b[0mwin_count\u001b[0m\u001b[1;33m\u001b[0m\u001b[1;33m\u001b[0m\u001b[0m\n\u001b[0;32m     43\u001b[0m \u001b[1;33m\u001b[0m\u001b[0m\n",
      "\u001b[1;32m<ipython-input-108-e6c2d06b9526>\u001b[0m in \u001b[0;36mpossible_wins\u001b[1;34m(self, node)\u001b[0m\n\u001b[0;32m     10\u001b[0m     \u001b[1;32mdef\u001b[0m \u001b[0mpossible_wins\u001b[0m\u001b[1;33m(\u001b[0m\u001b[0mself\u001b[0m\u001b[1;33m,\u001b[0m \u001b[0mnode\u001b[0m\u001b[1;33m)\u001b[0m\u001b[1;33m:\u001b[0m\u001b[1;33m\u001b[0m\u001b[1;33m\u001b[0m\u001b[0m\n\u001b[0;32m     11\u001b[0m         \u001b[1;32mfor\u001b[0m \u001b[0mchild\u001b[0m \u001b[1;32min\u001b[0m \u001b[0mnode\u001b[0m\u001b[1;33m.\u001b[0m\u001b[0mchildren\u001b[0m\u001b[1;33m:\u001b[0m\u001b[1;33m\u001b[0m\u001b[1;33m\u001b[0m\u001b[0m\n\u001b[1;32m---> 12\u001b[1;33m             \u001b[0mself\u001b[0m\u001b[1;33m.\u001b[0m\u001b[0mwin_count\u001b[0m \u001b[1;33m+=\u001b[0m \u001b[0mself\u001b[0m\u001b[1;33m.\u001b[0m\u001b[0mpossible_wins\u001b[0m\u001b[1;33m(\u001b[0m\u001b[0mchild\u001b[0m\u001b[1;33m)\u001b[0m\u001b[1;33m\u001b[0m\u001b[1;33m\u001b[0m\u001b[0m\n\u001b[0m\u001b[0;32m     13\u001b[0m \u001b[1;33m\u001b[0m\u001b[0m\n\u001b[0;32m     14\u001b[0m         \u001b[1;32mfor\u001b[0m \u001b[0mstack\u001b[0m \u001b[1;32min\u001b[0m \u001b[0mnode\u001b[0m\u001b[1;33m.\u001b[0m\u001b[0mstate\u001b[0m\u001b[1;33m:\u001b[0m\u001b[1;33m\u001b[0m\u001b[1;33m\u001b[0m\u001b[0m\n",
      "\u001b[1;32m<ipython-input-108-e6c2d06b9526>\u001b[0m in \u001b[0;36mpossible_wins\u001b[1;34m(self, node)\u001b[0m\n\u001b[0;32m     10\u001b[0m     \u001b[1;32mdef\u001b[0m \u001b[0mpossible_wins\u001b[0m\u001b[1;33m(\u001b[0m\u001b[0mself\u001b[0m\u001b[1;33m,\u001b[0m \u001b[0mnode\u001b[0m\u001b[1;33m)\u001b[0m\u001b[1;33m:\u001b[0m\u001b[1;33m\u001b[0m\u001b[1;33m\u001b[0m\u001b[0m\n\u001b[0;32m     11\u001b[0m         \u001b[1;32mfor\u001b[0m \u001b[0mchild\u001b[0m \u001b[1;32min\u001b[0m \u001b[0mnode\u001b[0m\u001b[1;33m.\u001b[0m\u001b[0mchildren\u001b[0m\u001b[1;33m:\u001b[0m\u001b[1;33m\u001b[0m\u001b[1;33m\u001b[0m\u001b[0m\n\u001b[1;32m---> 12\u001b[1;33m             \u001b[0mself\u001b[0m\u001b[1;33m.\u001b[0m\u001b[0mwin_count\u001b[0m \u001b[1;33m+=\u001b[0m \u001b[0mself\u001b[0m\u001b[1;33m.\u001b[0m\u001b[0mpossible_wins\u001b[0m\u001b[1;33m(\u001b[0m\u001b[0mchild\u001b[0m\u001b[1;33m)\u001b[0m\u001b[1;33m\u001b[0m\u001b[1;33m\u001b[0m\u001b[0m\n\u001b[0m\u001b[0;32m     13\u001b[0m \u001b[1;33m\u001b[0m\u001b[0m\n\u001b[0;32m     14\u001b[0m         \u001b[1;32mfor\u001b[0m \u001b[0mstack\u001b[0m \u001b[1;32min\u001b[0m \u001b[0mnode\u001b[0m\u001b[1;33m.\u001b[0m\u001b[0mstate\u001b[0m\u001b[1;33m:\u001b[0m\u001b[1;33m\u001b[0m\u001b[1;33m\u001b[0m\u001b[0m\n",
      "\u001b[1;32m<ipython-input-108-e6c2d06b9526>\u001b[0m in \u001b[0;36mpossible_wins\u001b[1;34m(self, node)\u001b[0m\n\u001b[0;32m     30\u001b[0m             \u001b[1;32melse\u001b[0m\u001b[1;33m:\u001b[0m\u001b[1;33m\u001b[0m\u001b[1;33m\u001b[0m\u001b[0m\n\u001b[0;32m     31\u001b[0m                 \u001b[0mprint\u001b[0m\u001b[1;33m(\u001b[0m\u001b[1;34m\"PASS\"\u001b[0m\u001b[1;33m)\u001b[0m\u001b[1;33m\u001b[0m\u001b[1;33m\u001b[0m\u001b[0m\n\u001b[1;32m---> 32\u001b[1;33m                 \u001b[0mprint\u001b[0m\u001b[1;33m(\u001b[0m\u001b[0mself\u001b[0m\u001b[1;33m.\u001b[0m\u001b[0morigin\u001b[0m\u001b[1;33m.\u001b[0m\u001b[0mchildren\u001b[0m\u001b[1;33m.\u001b[0m\u001b[0mstate\u001b[0m\u001b[1;33m.\u001b[0m\u001b[0msize\u001b[0m\u001b[1;33m)\u001b[0m\u001b[1;33m\u001b[0m\u001b[1;33m\u001b[0m\u001b[0m\n\u001b[0m\u001b[0;32m     33\u001b[0m                 \u001b[0mprint\u001b[0m\u001b[1;33m(\u001b[0m\u001b[0mstack\u001b[0m\u001b[1;33m.\u001b[0m\u001b[0mcheckStone\u001b[0m\u001b[1;33m(\u001b[0m\u001b[1;36m1\u001b[0m\u001b[1;33m)\u001b[0m\u001b[1;33m)\u001b[0m\u001b[1;33m\u001b[0m\u001b[1;33m\u001b[0m\u001b[0m\n\u001b[0;32m     34\u001b[0m                 \u001b[0mprint\u001b[0m\u001b[1;33m(\u001b[0m\u001b[0mnode\u001b[0m\u001b[1;33m.\u001b[0m\u001b[0mplayer\u001b[0m\u001b[1;33m)\u001b[0m\u001b[1;33m\u001b[0m\u001b[1;33m\u001b[0m\u001b[0m\n",
      "\u001b[1;31mAttributeError\u001b[0m: 'list' object has no attribute 'state'"
     ]
    }
   ],
   "source": [
    "custom_nim = [Stack(1), Stack(1), Stack(0)]\n",
    "custom_tree = NimTree(custom_nim)\n",
    "\n",
    "PrintAllNodes(custom_tree.origin)\n",
    "\n",
    "for stack in custom_tree.origin.state: print(stack.size)\n",
    "print(\"\\n\" + \"--- --- --- --- ---\" + \"\\n\")\n",
    "\n",
    "print(\"The number of wins: \")#, end = \"\") \n",
    "print(custom_tree.count_wins())\n",
    "print(custom_tree.loss_count)\n",
    "\n",
    "print(\"\\n\" + \"--- --- --- --- ---\" + \"\\n\")\n",
    "for stack in custom_tree.origin.state: print(stack.size)"
   ]
  },
  {
   "cell_type": "markdown",
   "metadata": {},
   "source": [
    "<h1> User Input & Test Playing </h1>"
   ]
  },
  {
   "cell_type": "code",
   "execution_count": null,
   "metadata": {},
   "outputs": [],
   "source": []
  }
 ],
 "metadata": {
  "kernelspec": {
   "display_name": "Python 3",
   "language": "python",
   "name": "python3"
  },
  "language_info": {
   "codemirror_mode": {
    "name": "ipython",
    "version": 3
   },
   "file_extension": ".py",
   "mimetype": "text/x-python",
   "name": "python",
   "nbconvert_exporter": "python",
   "pygments_lexer": "ipython3",
   "version": "3.8.1"
  }
 },
 "nbformat": 4,
 "nbformat_minor": 2
}
