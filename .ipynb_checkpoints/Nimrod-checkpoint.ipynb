{
 "cells": [
  {
   "cell_type": "markdown",
   "metadata": {},
   "source": [
    "<h1>Pseudocode for a minimax algorithm (Adapt this for our game)</h1>"
   ]
  },
  {
   "cell_type": "raw",
   "metadata": {},
   "source": [
    "# https://www.geeksforgeeks.org/minimax-algorithm-in-game-theory-set-1-introduction/\n",
    "# A simple Python3 program to find \n",
    "# maximum score that \n",
    "# maximizing player can get \n",
    "import math \n",
    "  \n",
    "def minimax (curDepth, nodeIndex, \n",
    "             maxTurn, scores,  \n",
    "             targetDepth): \n",
    "  \n",
    "    # base case : targetDepth reached \n",
    "    if (curDepth == targetDepth):  \n",
    "        return scores[nodeIndex] \n",
    "      \n",
    "    if (maxTurn): \n",
    "        return max(minimax(curDepth + 1, nodeIndex * 2,  \n",
    "                    False, scores, targetDepth),  \n",
    "                   minimax(curDepth + 1, nodeIndex * 2 + 1,  \n",
    "                    False, scores, targetDepth)) \n",
    "      \n",
    "    else: \n",
    "        return min(minimax(curDepth + 1, nodeIndex * 2,  \n",
    "                     True, scores, targetDepth),  \n",
    "                   minimax(curDepth + 1, nodeIndex * 2 + 1,  \n",
    "                     True, scores, targetDepth)) \n",
    "      \n",
    "# Driver code \n",
    "scores = [3, 5, 2, 9, 12, 5, 23, 23] \n",
    "  \n",
    "treeDepth = math.log(len(scores), 2) \n",
    "  \n",
    "print(\"The optimal value is : \", end = \"\") \n",
    "print(minimax(0, 0, True, scores, treeDepth)) \n",
    "  \n",
    "# This code is contributed \n",
    "# by rootshadow "
   ]
  },
  {
   "cell_type": "markdown",
   "metadata": {},
   "source": [
    "<h1> Nim Rules (for reference) </h1>"
   ]
  },
  {
   "cell_type": "raw",
   "metadata": {},
   "source": [
    "The basic Nim begins with two players and several heaps, each containing several objects. Occasionally, heaps are also called piles, and the objects are called stones.\n",
    "\n",
    "Each player, in turn, must take at least one stone, but they may take more than one stone as long as they all come from the same pile. It's allowed to make a pile empty, effectively removing the pile out of the game. When a player is unable to move, the game ends. Naturally, as long as there is a stone, either player can take that stone, and thus can move. So the ending condition can be rephrased, where the game ends if there is no stone left.\n",
    "\n",
    "In normal Nim, the loser is the player unable to move. It is called normal condition by convention from combinatorial game theory, where a normal game gives the win to the last player making a move. In misère Nim, the player unable to move wins instead; this is equivalent to the player taking the last stone losing."
   ]
  },
  {
   "cell_type": "markdown",
   "metadata": {},
   "source": [
    "<h2> To Dos </h2>"
   ]
  },
  {
   "cell_type": "markdown",
   "metadata": {},
   "source": [
    "1) We already have a great minimax pseudocode--it's really not that complicated. We just need to make a tree for Nim and adapt the minimax algorithm as needed\n",
    "\n",
    "    1b) Test the Tree!"
   ]
  },
  {
   "cell_type": "markdown",
   "metadata": {},
   "source": [
    "<h1> Nim Rules & Tree Setup </h1>"
   ]
  },
  {
   "cell_type": "code",
   "execution_count": 83,
   "metadata": {},
   "outputs": [],
   "source": [
    "import copy"
   ]
  },
  {
   "cell_type": "code",
   "execution_count": 84,
   "metadata": {},
   "outputs": [],
   "source": [
    "class Stack:\n",
    "    def __init__(self, size):\n",
    "        self.size = size\n",
    "    \n",
    "    def removeStone(self, amount):\n",
    "        if amount <= self.size and amount != 0:\n",
    "            self.size -= amount\n",
    "            return True #Indicates a valid turn\n",
    "        \n",
    "        return False #Indicates an invalid turn"
   ]
  },
  {
   "cell_type": "code",
   "execution_count": 85,
   "metadata": {},
   "outputs": [],
   "source": [
    "nim = [Stack(3), Stack(3), Stack(3)]"
   ]
  },
  {
   "cell_type": "code",
   "execution_count": 86,
   "metadata": {},
   "outputs": [
    {
     "name": "stdout",
     "output_type": "stream",
     "text": [
      "3\n",
      "3\n",
      "3\n"
     ]
    }
   ],
   "source": [
    "for stack in nim: print(stack.size)"
   ]
  },
  {
   "cell_type": "code",
   "execution_count": 87,
   "metadata": {},
   "outputs": [],
   "source": [
    "class Node:\n",
    "    def __init__(self, state, children=None, parent=None): #Might need parent...but at the same time, do we even care about the parent? Would we use it?\n",
    "        self.state = state\n",
    "        self.parent = parent\n",
    "        self.children = children\n",
    "        for child in self.children:\n"
   ]
  },
  {
   "cell_type": "code",
   "execution_count": 88,
   "metadata": {},
   "outputs": [],
   "source": [
    "def children_populate(nim, parent_node):\n",
    "    children = []\n",
    "    stack_index = 0\n",
    "    for each in nim:\n",
    "        for i in range(1, each.size+1):\n",
    "            temp_nim = copy.deepcopy(nim)\n",
    "            temp_nim[stack_index].removeStone(i)\n",
    "            children.append(Node(temp_nim, children_populate(temp_nim, self), parent_node))\n",
    "        stack_index += 1\n",
    "    return children"
   ]
  },
  {
   "cell_type": "markdown",
   "metadata": {},
   "source": [
    "#This no longer works per changing the children to Nodes instead of Stacks\n",
    "test_children = children_populate(nim)\n",
    "for stack in nim: print(stack.size)\n",
    "for child in test_children:\n",
    "    for stack in child: print(stack.size, end = \" \")\n",
    "    print(\"\\n\")"
   ]
  },
  {
   "cell_type": "code",
   "execution_count": 89,
   "metadata": {},
   "outputs": [],
   "source": [
    "class NimTree:\n",
    "    def __init__(self, nim):\n",
    "        self.nim = nim\n",
    "        self.origin = Node(nim) #Theoretically, because children are recursively created in the children_populate function...this should work. Theoertically.\n",
    "        self.origin.children = children_populate(self.origin.state, self.origin)"
   ]
  },
  {
   "cell_type": "code",
   "execution_count": 90,
   "metadata": {},
   "outputs": [
    {
     "ename": "NameError",
     "evalue": "name 'self' is not defined",
     "output_type": "error",
     "traceback": [
      "\u001b[0;31m---------------------------------------------------------------------------\u001b[0m",
      "\u001b[0;31mNameError\u001b[0m                                 Traceback (most recent call last)",
      "\u001b[0;32m<ipython-input-90-779682e2dc5b>\u001b[0m in \u001b[0;36m<module>\u001b[0;34m\u001b[0m\n\u001b[1;32m      1\u001b[0m \u001b[0mnim\u001b[0m \u001b[0;34m=\u001b[0m \u001b[0;34m[\u001b[0m\u001b[0mStack\u001b[0m\u001b[0;34m(\u001b[0m\u001b[0;36m3\u001b[0m\u001b[0;34m)\u001b[0m\u001b[0;34m,\u001b[0m \u001b[0mStack\u001b[0m\u001b[0;34m(\u001b[0m\u001b[0;36m3\u001b[0m\u001b[0;34m)\u001b[0m\u001b[0;34m,\u001b[0m \u001b[0mStack\u001b[0m\u001b[0;34m(\u001b[0m\u001b[0;36m3\u001b[0m\u001b[0;34m)\u001b[0m\u001b[0;34m]\u001b[0m\u001b[0;34m\u001b[0m\u001b[0m\n\u001b[0;32m----> 2\u001b[0;31m \u001b[0mtree\u001b[0m \u001b[0;34m=\u001b[0m \u001b[0mNimTree\u001b[0m\u001b[0;34m(\u001b[0m\u001b[0mnim\u001b[0m\u001b[0;34m)\u001b[0m\u001b[0;34m\u001b[0m\u001b[0m\n\u001b[0m",
      "\u001b[0;32m<ipython-input-89-b08e034584ee>\u001b[0m in \u001b[0;36m__init__\u001b[0;34m(self, nim)\u001b[0m\n\u001b[1;32m      3\u001b[0m         \u001b[0mself\u001b[0m\u001b[0;34m.\u001b[0m\u001b[0mnim\u001b[0m \u001b[0;34m=\u001b[0m \u001b[0mnim\u001b[0m\u001b[0;34m\u001b[0m\u001b[0m\n\u001b[1;32m      4\u001b[0m         \u001b[0mself\u001b[0m\u001b[0;34m.\u001b[0m\u001b[0morigin\u001b[0m \u001b[0;34m=\u001b[0m \u001b[0mNode\u001b[0m\u001b[0;34m(\u001b[0m\u001b[0mnim\u001b[0m\u001b[0;34m)\u001b[0m \u001b[0;31m#Theoretically, because children are recursively created in the children_populate function...this should work. Theoertically.\u001b[0m\u001b[0;34m\u001b[0m\u001b[0m\n\u001b[0;32m----> 5\u001b[0;31m         \u001b[0mself\u001b[0m\u001b[0;34m.\u001b[0m\u001b[0morigin\u001b[0m\u001b[0;34m.\u001b[0m\u001b[0mchildren\u001b[0m \u001b[0;34m=\u001b[0m \u001b[0mchildren_populate\u001b[0m\u001b[0;34m(\u001b[0m\u001b[0mself\u001b[0m\u001b[0;34m.\u001b[0m\u001b[0morigin\u001b[0m\u001b[0;34m.\u001b[0m\u001b[0mstate\u001b[0m\u001b[0;34m,\u001b[0m \u001b[0mself\u001b[0m\u001b[0;34m.\u001b[0m\u001b[0morigin\u001b[0m\u001b[0;34m)\u001b[0m\u001b[0;34m\u001b[0m\u001b[0m\n\u001b[0m",
      "\u001b[0;32m<ipython-input-88-b34ebd881d42>\u001b[0m in \u001b[0;36mchildren_populate\u001b[0;34m(nim, parent_node)\u001b[0m\n\u001b[1;32m      6\u001b[0m             \u001b[0mtemp_nim\u001b[0m \u001b[0;34m=\u001b[0m \u001b[0mcopy\u001b[0m\u001b[0;34m.\u001b[0m\u001b[0mdeepcopy\u001b[0m\u001b[0;34m(\u001b[0m\u001b[0mnim\u001b[0m\u001b[0;34m)\u001b[0m\u001b[0;34m\u001b[0m\u001b[0m\n\u001b[1;32m      7\u001b[0m             \u001b[0mtemp_nim\u001b[0m\u001b[0;34m[\u001b[0m\u001b[0mstack_index\u001b[0m\u001b[0;34m]\u001b[0m\u001b[0;34m.\u001b[0m\u001b[0mremoveStone\u001b[0m\u001b[0;34m(\u001b[0m\u001b[0mi\u001b[0m\u001b[0;34m)\u001b[0m\u001b[0;34m\u001b[0m\u001b[0m\n\u001b[0;32m----> 8\u001b[0;31m             \u001b[0mchildren\u001b[0m\u001b[0;34m.\u001b[0m\u001b[0mappend\u001b[0m\u001b[0;34m(\u001b[0m\u001b[0mNode\u001b[0m\u001b[0;34m(\u001b[0m\u001b[0mtemp_nim\u001b[0m\u001b[0;34m,\u001b[0m \u001b[0mchildren_populate\u001b[0m\u001b[0;34m(\u001b[0m\u001b[0mtemp_nim\u001b[0m\u001b[0;34m,\u001b[0m \u001b[0mself\u001b[0m\u001b[0;34m)\u001b[0m\u001b[0;34m,\u001b[0m \u001b[0mparent_node\u001b[0m\u001b[0;34m)\u001b[0m\u001b[0;34m)\u001b[0m\u001b[0;34m\u001b[0m\u001b[0m\n\u001b[0m\u001b[1;32m      9\u001b[0m         \u001b[0mstack_index\u001b[0m \u001b[0;34m+=\u001b[0m \u001b[0;36m1\u001b[0m\u001b[0;34m\u001b[0m\u001b[0m\n\u001b[1;32m     10\u001b[0m     \u001b[0;32mreturn\u001b[0m \u001b[0mchildren\u001b[0m\u001b[0;34m\u001b[0m\u001b[0m\n",
      "\u001b[0;31mNameError\u001b[0m: name 'self' is not defined"
     ]
    }
   ],
   "source": [
    "nim = [Stack(3), Stack(3), Stack(3)]\n",
    "tree = NimTree(nim)"
   ]
  },
  {
   "cell_type": "markdown",
   "metadata": {},
   "source": [
    "#Okay Marcus, I'll explain some of what I've done thus far.\n",
    "#Nim is a game w/ a collection of an arbitrary number of stacks & an arbitrary number of stones per stack\n",
    "#Players take turns removing stones (they can remove as many as they want / can (no negative stones) or as a few as they want / can but HAVE to remove 1)\n",
    "#So what I've done is thus:\n",
    "#The Stack class acts as a stack\n",
    "#nim is a starting state of the game, represented by an array of stacks.\n",
    "#Node is simply a node containing a current state of nim (an array of stacks) that also links to its children\n",
    "#I didn't include parent because I don't think we need it and the way I populated the tree was a little recursive and wonky, and it didn't play well w/ parent. We can fix this pretty easily though.\n",
    "#NimTree is a class containing, you guessed it, a tree of Nim Nodes. \n",
    "#Currently, I think it's working right. However, I haven't had time to test it. Do you think you can test and troubleshoot the tree? Should be able to do this with a for loop\n",
    "#It should look like slide 14 of chapter 7 notes.\n",
    "#You can use the following lines of code to print nicely"
   ]
  },
  {
   "cell_type": "code",
   "execution_count": null,
   "metadata": {},
   "outputs": [],
   "source": [
    "for stack in tree.origin.state: print(stack.size, end = \" \")\n",
    "print(\"\\n\") #this prints the nim state of the origin node of the tree"
   ]
  },
  {
   "cell_type": "markdown",
   "metadata": {},
   "source": [
    "#Outdated since children are Nodes.\n",
    "for child in tree.origin.children:\n",
    "    for stack in child: print(stack.size, end = \" \")\n",
    "    print(\"\\n\")"
   ]
  },
  {
   "cell_type": "code",
   "execution_count": null,
   "metadata": {},
   "outputs": [],
   "source": [
    "for child in tree.origin.children: #This prints the nim state of all of the children nodes of a node (in this case, origin)\n",
    "    for stack in child.state: print(stack.size, end = \" \")\n",
    "    print(\"\\n\")"
   ]
  },
  {
   "cell_type": "code",
   "execution_count": null,
   "metadata": {},
   "outputs": [],
   "source": [
    "def print_all_nodes(current_print, node):\n",
    "    temp_array = []\n",
    "    for stack in node.state: temp_array.append(stack.size)\n",
    "    if temp_array not in current_print:\n",
    "        current_print.append(temp_array)\n",
    "        children = node.children\n",
    "        for child in children:\n",
    "            print_all_nodes(current_print, child)\n",
    "        print(\"Node: \")\n",
    "        for stack in node.state: print(stack.size, end = \" \")\n",
    "        print(\"\\n\")\n",
    "        print(\"Children: \")\n",
    "        for child in children:\n",
    "            for stack in child.state: \n",
    "                print(stack.size, end = \" \")\n",
    "            print()\n",
    "        print(\"\\n\\n\")"
   ]
  },
  {
   "cell_type": "code",
   "execution_count": null,
   "metadata": {},
   "outputs": [],
   "source": [
    "print_all_nodes([],tree.origin)"
   ]
  },
  {
   "cell_type": "markdown",
   "metadata": {},
   "source": [
    "TO DO FOR MARCUS\n",
    "Psuedocode:\n",
    "for each node in tree:\n",
    "    verify proper children (if any) are being generated per slide 14 of chapter 7\n",
    "    also test larger nim games (both stack # and stack size)\n",
    "    \n",
    "    Maybe start looking at incorporating the minimax algorith? Shouldn't be too hard w/ a tree in place\n",
    "    \n",
    "You'll do great :) Just get done what you can and we can keep working on it together.\n",
    "\n",
    "Also, as a tip:\n",
    "click Cell->run all when you start & periodicailly if you update code.\n",
    "Shift + Enter runs one block\n",
    "Cell->Cell Type->Markdown is good for writing notes like this."
   ]
  },
  {
   "cell_type": "markdown",
   "metadata": {},
   "source": [
    "<h1> MiniMax Tree </h1>"
   ]
  },
  {
   "cell_type": "code",
   "execution_count": null,
   "metadata": {},
   "outputs": [],
   "source": []
  },
  {
   "cell_type": "markdown",
   "metadata": {},
   "source": [
    "<h1> User Input & Test Playing </h1>"
   ]
  },
  {
   "cell_type": "code",
   "execution_count": null,
   "metadata": {},
   "outputs": [],
   "source": []
  }
 ],
 "metadata": {
  "kernelspec": {
   "display_name": "Python 3",
   "language": "python",
   "name": "python3"
  },
  "language_info": {
   "codemirror_mode": {
    "name": "ipython",
    "version": 3
   },
   "file_extension": ".py",
   "mimetype": "text/x-python",
   "name": "python",
   "nbconvert_exporter": "python",
   "pygments_lexer": "ipython3",
   "version": "3.7.0"
  }
 },
 "nbformat": 4,
 "nbformat_minor": 2
}
